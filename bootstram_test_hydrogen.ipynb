# %% codecell
from astropy.stats import sigma_clip, SigmaClip, gaussian_fwhm_to_sigma, bootstrap
import numpy as np
from astropy.modeling import models, fitting
import seaborn as sns
import matplotlib.pyplot as plt

# %% codecell
x = np.array((1.0,2.,3,4,5))
y = x+0.4*np.random.random(size=len(x))
yerr = np.random.random(size=len(x))*0.25 + 0.05
# %% codecell
from astropy.table import Table
# %% codecell
AT=Table((np.arange(len(x)),x,y,yerr),names=['ind','mag_cat','mag_inst','err_inst'])
AT
# %% codecell
parnames = ['intercept','test']
pars={}

for par in parnames:
    pars[par]=np.ones(len(bootinds), dtype=np.float64)
pars

[np.nanmedian(pars[par]) for par in pars]

#bp=best_fit.parameters[np.array(best_fit.param_names) == parname][0]
# %% codecell

# %% codecell
pars = {}
parnames = ['intercept']
[pars[par]=np.ones(len(bootinds), dtype=np.float64) for par in parnames]
pars
# %% codecell

# %% codecell
n=300
bootstraps=bootstrap(AT['ind'],bootnum=n)
bootstraps.sort()
bootinds=bootstraps.astype(int)
model = models.Linear1D(slope=1.0,fixed={'slope':True})
outlier_kwargs={'sigma':3}
fitter = fitting.FittingWithOutlierRemoval(fitting.LinearLSQFitter(), sigma_clip, **outlier_kwargs)
ints = np.ones(len(bootinds),dtype=np.float64)
#fig,ax = plt.subplots()

for i,bs in enumerate(bootinds):
    w=(1.0/yerr[bs])**2
    w=np.ones(len(yerr[bs]),dtype=np.float64)
    best_fit, sigma_clipped = fitter(model, x[bs], y[bs], weights=w)
    ints[i] = best_fit.intercept.value

#np.mean(ints)
#np.median(ints)
fig,ax=plt.subplots(figsize=(9,9))
sns.distplot(ints, ax=ax)
ax.axvline(np.mean(ints),color='black')
ax.axvline(np.median(ints))

# %% codecell
weights[sigma_clipped] = 0
weights
# %% codecell
N=len(weights.nonzero()[0])
N
# %% codecell
weights = w
weights[sigma_clipped] = 0 # Trick to make following expression simpler
N = len(weights.nonzero())
N
# %% codecell
plt.errorbar(AT['mag_cat'],AT['mag_inst'],AT['err_inst'],linestyle='None',marker='o')
model.intercept = np.median(ints)
plt.plot(np.linspace(0.8,5.1),model(np.linspace(0.8,5.1)))
# %% codecell
model
# %% codecell

# %% codecell
model
# %% codecell
n = 3
bootstraps=bootstrap(AT['ind'],bootnum=n)
bootstraps.sort()
bootinds=bootstraps.astype(int)
model=models.Polynomial1D(1,c1=np.ones(n),fixed={'c1':True},n_models=n)
#fitter=fitting.SLSQPLSQFitter()
fitter=fitting.LinearLSQFitter()
fit=fitter(model,x[bootinds].T,y[bootinds])#,
           #weights=(1.0/yerr[bootinds].reshape(len(x),n))**2)
#fitter = fitting.FittingWithOutlierRemoval(fitting.LinearLSQFitter(), sigma_clip, sigma=3.0)
#best_fit, sigma_clipped = fitter(model, x[bootinds], y[bootinds], weights=(1.0/yerr[bootinds])**2)

# %% codecell
x[bootinds][np.newaxis, :]
# %% codecell
y[bootinds][0]
# %% codecell
line1d=models.Linear1D(slope=np.ones(n),intercept=np.zeros(n),fixed={'slope':True},model_set_axis=1)
fitter=fitting.LinearLSQFitter()
model = fitter(model=line1d,x=x[bootinds],y=y[bootinds])
# %% codecell
line1d
# %% codecell
fit.c0.value
# %% codecell
fit(np.arange(3))
# %% codecell
Y=fit(np.arange(3), model_set_axis=False)
# %% codecell
plt.plot(x[bootinds],y[bootinds],marker='o',linestyle='None')
plt.plot()
# %% codecell
np.dstack((x[bootinds],y[bootinds])).shape
# %% codecell
x[bootinds].reshape(5,3)
# %% codecell
fit=fitter(model,x[bootinds], y[bootinds],weights=(1.0/yerr[bootinds])**2)


# %% codecell
# Fit linear function with fixed slope, using sigma-clipping:
model = models.Linear1D(slope=1, fixed={'slope': True})
fitter = fitting.FittingWithOutlierRemoval(fitting.LinearLSQFitter(), sigma_clip, sigma=3.0)

best_fit, sigma_clipped = fitter(model, x[bootinds[0]], y[bootinds[0]], weights=(1.0/yerr[bootinds[0]])**2)
best_fit.intercept.value
# %% codecell
import matplotlib.pyplot as plt
plt.plot(x,best_fit(x))
plt.errorbar(x,y,yerr,linestyle='None',marker='s')
# %% codecell

# %% codecell
p = models.Polynomial1D(1, n_models=2, model_set_axis=0)

x = np.arange(0,4)

# Generate data for fitting 2 models and re-stack them along the last axis:
y = np.array([2*x+1, x+4])
y = np.moveaxis(y, 0, -1)


# %% codecell
x1=np.arange(0,4)
x2=np.arange(0,4)
x3=np.vstack((x1,x2))
x1,x2,x3
# %% codecell
f = fitting.LinearLSQFitter()
fit = f(p, x3, y.T)
#print(fit.parameters)
# %% codecell
fit
# %% codecell
