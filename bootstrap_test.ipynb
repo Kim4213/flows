{
 "cells": [
  {
   "cell_type": "code",
   "execution_count": 1,
   "metadata": {},
   "outputs": [],
   "source": [
    "from astropy.stats import sigma_clip, SigmaClip, gaussian_fwhm_to_sigma, bootstrap\n",
    "import numpy as np\n",
    "from astropy.modeling import models, fitting\n",
    "import seaborn as sns\n",
    "import matplotlib.pyplot as plt\n",
    "%matplotlib notebook"
   ]
  },
  {
   "cell_type": "code",
   "execution_count": 2,
   "metadata": {},
   "outputs": [],
   "source": [
    "x = np.array((1.0,2.,3,4,5))\n",
    "y = x+0.4*np.random.random(size=len(x))\n",
    "yerr = np.random.random(size=len(x))*0.25 + 0.05"
   ]
  },
  {
   "cell_type": "code",
   "execution_count": 3,
   "metadata": {},
   "outputs": [],
   "source": [
    "from astropy.table import Table"
   ]
  },
  {
   "cell_type": "code",
   "execution_count": 6,
   "metadata": {},
   "outputs": [],
   "source": [
    "AT2=Table.read('/Users/emir/Dropbox/FLOWS/flows/phot_workdir/2020oij/01418/photometry.ecsv')\n",
    "AT2.remove_row(0)\n",
    "AT2['ind']=np.arange(len(AT2['mag']))\n",
    "AT=Table(AT2[['ind','H_mag','mag','mag_error']],names=['ind','mag_cat','mag_inst','err_inst'])\n",
    "x = AT['mag_cat']#[2:]\n",
    "y = AT['mag_inst']#[2:]\n",
    "yerr = AT['err_inst']#[2:]"
   ]
  },
  {
   "cell_type": "code",
   "execution_count": 58,
   "metadata": {},
   "outputs": [
    {
     "data": {
      "text/plain": [
       "OrderedDict([('targetid', 10),\n",
       "             ('version', 'dev_clean-v0.1.post126+git40abc15'),\n",
       "             ('fileid', 1418),\n",
       "             ('template', None),\n",
       "             ('diffimg', None),\n",
       "             ('photfilter', 'H'),\n",
       "             ('fwhm', <Quantity 4.21293693 pix>),\n",
       "             ('pixel_scale', <Quantity 0.23450379 arcsec / pix>),\n",
       "             ('seeing', <Quantity 0.98794968 arcsec>),\n",
       "             ('obstime-bmjd', 59047.11226613053),\n",
       "             ('zp', 23.03386447191017),\n",
       "             ('zp_error', 0.13019353430857677)])"
      ]
     },
     "execution_count": 58,
     "metadata": {},
     "output_type": "execute_result"
    }
   ],
   "source": [
    "AT2.meta"
   ]
  },
  {
   "cell_type": "code",
   "execution_count": 7,
   "metadata": {},
   "outputs": [
    {
     "data": {
      "text/html": [
       "<i>Table length=13</i>\n",
       "<table id=\"table112178540176\" class=\"table-striped table-bordered table-condensed\">\n",
       "<thead><tr><th>starid</th><th>ra</th><th>decl</th><th>pm_ra</th><th>pm_dec</th><th>gaia_mag</th><th>gaia_bp_mag</th><th>gaia_rp_mag</th><th>gaia_variability</th><th>B_mag</th><th>V_mag</th><th>H_mag</th><th>J_mag</th><th>K_mag</th><th>u_mag</th><th>g_mag</th><th>r_mag</th><th>i_mag</th><th>z_mag</th><th>distance</th><th>pixel_column</th><th>pixel_row</th><th>used_for_epsf</th><th>flux_aperture</th><th>flux_aperture_error</th><th>flux_psf</th><th>flux_psf_error</th><th>pixel_column_psf_fit</th><th>pixel_row_psf_fit</th><th>pixel_column_psf_fit_error</th><th>pixel_row_psf_fit_error</th><th>mag</th><th>mag_error</th><th>ind</th></tr></thead>\n",
       "<thead><tr><th></th><th>deg</th><th>deg</th><th>mas / yr</th><th>mas / yr</th><th></th><th></th><th></th><th></th><th></th><th></th><th></th><th></th><th></th><th></th><th></th><th></th><th></th><th></th><th>deg</th><th>pix</th><th>pix</th><th></th><th>ct / s</th><th>ct / s</th><th>ct / s</th><th>ct / s</th><th>pix</th><th>pix</th><th>pix</th><th>pix</th><th></th><th></th><th></th></tr></thead>\n",
       "<thead><tr><th>int64</th><th>float64</th><th>float64</th><th>float32</th><th>float32</th><th>float32</th><th>float32</th><th>float32</th><th>int32</th><th>float32</th><th>float32</th><th>float32</th><th>float32</th><th>float32</th><th>float32</th><th>float32</th><th>float32</th><th>float32</th><th>float32</th><th>float64</th><th>float64</th><th>float64</th><th>bool</th><th>float64</th><th>float64</th><th>float64</th><th>float64</th><th>float64</th><th>float64</th><th>float64</th><th>float64</th><th>float64</th><th>float64</th><th>int64</th></tr></thead>\n",
       "<tr><td>159453280980045501</td><td>328.09800402</td><td>42.87905328</td><td>-5.87</td><td>-8.91</td><td>13.044</td><td>13.715</td><td>12.27</td><td>2</td><td>14.613</td><td>13.401</td><td>11.228</td><td>11.228</td><td>10.513</td><td>nan</td><td>13.904</td><td>13.031</td><td>12.652</td><td>12.457</td><td>0.0336393061163926</td><td>251.89230290645457</td><td>396.36036225740395</td><td>True</td><td>25505.102974766418</td><td>21.19015246428836</td><td>24387.83790344215</td><td>687.0773651664688</td><td>252.6994437959303</td><td>397.6015271962745</td><td>0.07075407763684098</td><td>0.06572824326975647</td><td>12.06593122248152</td><td>0.13373857395544847</td><td>0</td></tr>\n",
       "<tr><td>159453280784673124</td><td>328.07846781</td><td>42.87707201</td><td>-3.71</td><td>-4.64</td><td>13.005</td><td>13.189</td><td>12.686</td><td>2</td><td>13.416</td><td>13.036</td><td>12.333</td><td>12.333</td><td>12.094</td><td>nan</td><td>13.152</td><td>13.037</td><td>13.038</td><td>13.077</td><td>0.0446282266675932</td><td>221.85529539670802</td><td>176.8335697075658</td><td>True</td><td>13185.91900067191</td><td>15.230576317059294</td><td>16247.266394921262</td><td>104.74147739845311</td><td>222.32737233752536</td><td>177.41173987484896</td><td>0.01617676679854985</td><td>0.015030933926786366</td><td>12.506913718541124</td><td>0.13038154932728346</td><td>1</td></tr>\n",
       "<tr><td>159433280752749998</td><td>328.0752743</td><td>42.86613423</td><td>-3.06</td><td>-8.76</td><td>16.679</td><td>17.331</td><td>15.917</td><td>2</td><td>17.854</td><td>16.839</td><td>14.909</td><td>14.909</td><td>14.299</td><td>nan</td><td>17.511</td><td>16.637</td><td>16.289</td><td>16.111</td><td>0.0540789597881267</td><td>53.820664268265546</td><td>140.8910726238658</td><td>True</td><td>1799.4523015850225</td><td>6.224527294555065</td><td>2278.084459278995</td><td>21.16327934656089</td><td>54.150004584449185</td><td>141.72046681530787</td><td>0.023380170060556045</td><td>0.02171750462058499</td><td>14.6399399184712</td><td>0.13058366068736402</td><td>2</td></tr>\n",
       "<tr><td>159483280650285700</td><td>328.06502876</td><td>42.90421847</td><td>-1.77</td><td>-2.69</td><td>16.183</td><td>16.561</td><td>15.641</td><td>2</td><td>16.897</td><td>16.353</td><td>15.037</td><td>15.037</td><td>14.65</td><td>nan</td><td>16.604</td><td>16.178</td><td>15.993</td><td>15.923</td><td>0.0431308991011272</td><td>639.394372190875</td><td>26.015345633168238</td><td>True</td><td>1338.6854094294542</td><td>5.344676414735375</td><td>1574.5866397149782</td><td>5.629133403195799</td><td>640.2191429751718</td><td>26.09807796358546</td><td>0.008981573807174027</td><td>0.008396919824958908</td><td>15.040948066520816</td><td>0.1302513815580134</td><td>3</td></tr>\n",
       "<tr><td>159443280637758819</td><td>328.06377596</td><td>42.87348472</td><td>-2.91</td><td>-2.3</td><td>16.372</td><td>16.787</td><td>15.796</td><td>2</td><td>17.378</td><td>16.676</td><td>15.101</td><td>15.101</td><td>14.662</td><td>nan</td><td>16.845</td><td>16.36</td><td>16.154</td><td>16.079</td><td>0.055221107949889</td><td>167.06573122979682</td><td>11.71769496162267</td><td>True</td><td>1282.5825662864534</td><td>5.434084738842336</td><td>1606.5255257295228</td><td>15.960759747670362</td><td>167.2832998355409</td><td>12.191349875203226</td><td>0.024941356890798568</td><td>0.023284370766725956</td><td>15.01914539603134</td><td>0.1306396193985183</td><td>4</td></tr>\n",
       "<tr><td>159533280831745953</td><td>328.08317443</td><td>42.94609642</td><td>-7.07</td><td>-6.83</td><td>16.668</td><td>17.076</td><td>16.091</td><td>2</td><td>17.676</td><td>16.811</td><td>15.421</td><td>15.421</td><td>15.004</td><td>nan</td><td>17.135</td><td>16.661</td><td>16.447</td><td>16.358</td><td>0.0492205806882781</td><td>1282.614757719085</td><td>229.98538910253848</td><td>True</td><td>880.8603559568138</td><td>4.956428780583545</td><td>913.5629144956346</td><td>13.580045830308402</td><td>1283.1212109922349</td><td>230.61060427735796</td><td>0.03740588778865062</td><td>0.03464918636345764</td><td>15.63201831853054</td><td>0.13119007683113956</td><td>5</td></tr>\n",
       "<tr><td>159463280720554881</td><td>328.07205566</td><td>42.88686936</td><td>-6.64</td><td>-5.37</td><td>17.113</td><td>17.661</td><td>16.419</td><td>2</td><td>17.488</td><td>17.053</td><td>15.573</td><td>15.573</td><td>15.102</td><td>nan</td><td>17.773</td><td>17.068</td><td>16.793</td><td>16.67</td><td>0.0428653288372896</td><td>372.5816692718739</td><td>104.83887850807628</td><td>True</td><td>890.7390622404525</td><td>4.7816926272486935</td><td>1066.7751153383665</td><td>19.275947099030727</td><td>373.0877362738368</td><td>105.21850318045693</td><td>0.04550919593150272</td><td>0.04230076758763634</td><td>15.46368228103712</td><td>0.13166337511720014</td><td>6</td></tr>\n",
       "<tr><td>159533280835690037</td><td>328.08356941</td><td>42.94116595</td><td>-2.89</td><td>-3.17</td><td>17.494</td><td>18.137</td><td>16.724</td><td>2</td><td>nan</td><td>nan</td><td>15.621</td><td>15.621</td><td>15.097</td><td>nan</td><td>18.298</td><td>17.484</td><td>17.098</td><td>16.904</td><td>0.0452021072198725</td><td>1206.8277464691237</td><td>234.40019919981813</td><td>True</td><td>805.0594278431993</td><td>4.771216417022077</td><td>869.7653512989039</td><td>9.498264227145276</td><td>1207.4629518917848</td><td>235.2011789584525</td><td>0.02737947387639294</td><td>0.02557212236629539</td><td>15.685359215022306</td><td>0.13073231970334373</td><td>7</td></tr>\n",
       "<tr><td>159453280680582236</td><td>328.0680588</td><td>42.87633263</td><td>-3.37</td><td>-3.89</td><td>17.255</td><td>17.846</td><td>16.527</td><td>2</td><td>nan</td><td>nan</td><td>15.634</td><td>15.634</td><td>15.038</td><td>nan</td><td>17.954</td><td>17.25</td><td>16.908</td><td>16.747</td><td>0.0510003618681549</td><td>210.73286368824</td><td>59.86468842297211</td><td>True</td><td>996.9506870433731</td><td>4.976469203261512</td><td>1199.1489435974065</td><td>10.082319281037703</td><td>210.9986845201357</td><td>60.387821930217626</td><td>0.019413188280915455</td><td>0.019585163290224514</td><td>15.336681648931421</td><td>0.13051318161950484</td><td>8</td></tr>\n",
       "<tr><td>159503280646413018</td><td>328.064641</td><td>42.91865073</td><td>0.78</td><td>-2.4</td><td>17.759</td><td>18.259</td><td>17.102</td><td>2</td><td>nan</td><td>nan</td><td>16.239</td><td>16.239</td><td>15.828</td><td>nan</td><td>18.349</td><td>17.733</td><td>17.457</td><td>17.343</td><td>0.0448974150335997</td><td>861.2188928528118</td><td>21.76410964062427</td><td>True</td><td>455.69548272333293</td><td>3.7497372732546306</td><td>508.0665605654893</td><td>4.580363967897976</td><td>861.7559533227882</td><td>22.157221440568005</td><td>0.022678144293830478</td><td>0.02114354353550021</td><td>16.269062942220494</td><td>0.1305609651304493</td><td>9</td></tr>\n",
       "<tr><td>159503280756178120</td><td>328.07561772</td><td>42.92290184</td><td>-5.56</td><td>-5.34</td><td>17.759</td><td>18.294</td><td>17.11</td><td>2</td><td>nan</td><td>nan</td><td>16.294</td><td>16.294</td><td>15.678</td><td>nan</td><td>18.35</td><td>17.732</td><td>17.453</td><td>17.346</td><td>0.038753217788736</td><td>926.2968610749208</td><td>145.04635457002132</td><td>True</td><td>456.9133610812951</td><td>3.7692160472284515</td><td>533.2603088309371</td><td>4.399841787974635</td><td>926.7015030422032</td><td>145.78928971475574</td><td>0.020737366387943393</td><td>0.019324197738900484</td><td>16.21651632227169</td><td>0.1305013648504695</td><td>10</td></tr>\n",
       "<tr><td>159483280739662312</td><td>328.07396646</td><td>42.90139589</td><td>-6.16</td><td>-7.23</td><td>17.768</td><td>18.227</td><td>17.167</td><td>2</td><td>nan</td><td>nan</td><td>16.376</td><td>16.376</td><td>15.065</td><td>nan</td><td>18.269</td><td>17.755</td><td>17.507</td><td>17.415</td><td>0.0369127146134839</td><td>595.8013127493766</td><td>126.38678075297906</td><td>True</td><td>384.76800108559854</td><td>3.5122892872460345</td><td>463.45733285786565</td><td>2.81103052116883</td><td>596.455998520798</td><td>126.73026298434209</td><td>0.015201176169525538</td><td>0.014185168654995613</td><td>16.368840076935026</td><td>0.13035997645842606</td><td>11</td></tr>\n",
       "<tr><td>159503280653286739</td><td>328.06532855</td><td>42.9217511</td><td>-4.34</td><td>-3.86</td><td>17.825</td><td>18.311</td><td>17.196</td><td>2</td><td>nan</td><td>nan</td><td>16.534</td><td>16.534</td><td>15.409</td><td>nan</td><td>18.361</td><td>17.804</td><td>17.552</td><td>17.437</td><td>0.0453309019119296</td><td>908.8530059252698</td><td>29.50672601850522</td><td>True</td><td>394.40761405658134</td><td>3.67442202183928</td><td>442.5231284587086</td><td>4.453934432179443</td><td>909.3647057882038</td><td>29.798838138663015</td><td>0.025233019107618885</td><td>0.02357326979838633</td><td>16.41902453687077</td><td>0.1306513408797269</td><td>12</td></tr>\n",
       "</table>"
      ],
      "text/plain": [
       "<Table length=13>\n",
       "      starid            ra          decl    ...      mag_error       ind \n",
       "                       deg          deg     ...                          \n",
       "      int64          float64      float64   ...       float64       int64\n",
       "------------------ ------------ ----------- ... ------------------- -----\n",
       "159453280980045501 328.09800402 42.87905328 ... 0.13373857395544847     0\n",
       "159453280784673124 328.07846781 42.87707201 ... 0.13038154932728346     1\n",
       "159433280752749998  328.0752743 42.86613423 ... 0.13058366068736402     2\n",
       "159483280650285700 328.06502876 42.90421847 ...  0.1302513815580134     3\n",
       "159443280637758819 328.06377596 42.87348472 ...  0.1306396193985183     4\n",
       "159533280831745953 328.08317443 42.94609642 ... 0.13119007683113956     5\n",
       "159463280720554881 328.07205566 42.88686936 ... 0.13166337511720014     6\n",
       "159533280835690037 328.08356941 42.94116595 ... 0.13073231970334373     7\n",
       "159453280680582236  328.0680588 42.87633263 ... 0.13051318161950484     8\n",
       "159503280646413018   328.064641 42.91865073 ...  0.1305609651304493     9\n",
       "159503280756178120 328.07561772 42.92290184 ...  0.1305013648504695    10\n",
       "159483280739662312 328.07396646 42.90139589 ... 0.13035997645842606    11\n",
       "159503280653286739 328.06532855  42.9217511 ...  0.1306513408797269    12"
      ]
     },
     "execution_count": 7,
     "metadata": {},
     "output_type": "execute_result"
    }
   ],
   "source": [
    "AT2"
   ]
  },
  {
   "cell_type": "code",
   "execution_count": 8,
   "metadata": {},
   "outputs": [],
   "source": [
    "import pandas as pd\n",
    "#pd.DataFrame()"
   ]
  },
  {
   "cell_type": "code",
   "execution_count": 53,
   "metadata": {
    "scrolled": false
   },
   "outputs": [
    {
     "data": {
      "text/plain": [
       "<matplotlib.lines.Line2D at 0x1a1c57ccd0>"
      ]
     },
     "execution_count": 53,
     "metadata": {},
     "output_type": "execute_result"
    },
    {
     "data": {
      "image/png": "[encoded data removed]",
      "text/plain": [
       "<Figure size 648x648 with 1 Axes>"
      ]
     },
     "metadata": {
      "needs_background": "light"
     },
     "output_type": "display_data"
    }
   ],
   "source": [
    "from scipy.special import erfcinv\n",
    "#Calculate sigma for sigma clipping\n",
    "def sigma_from_Chauvenet(Nsamples):\n",
    "    '''Calculate sigma according to the Cheuvenet criterion'''\n",
    "    return erfcinv(1./(2*Nsamples)) * (2.)**(1/2)\n",
    "\n",
    "n=5000\n",
    "bootstraps=bootstrap(AT['ind'],bootnum=n)\n",
    "bootstraps.sort()\n",
    "bootinds=bootstraps.astype(int)\n",
    "model = models.Linear1D(slope=1.0,fixed={'slope':True})\n",
    "outlier_kwargs={'sigma':sigma_from_Chauvenet(len(AT['ind']))}\n",
    "fitter = fitting.FittingWithOutlierRemoval(fitting.LinearLSQFitter(), sigma_clip, **outlier_kwargs)\n",
    "#fitter = fitting.LinearLSQFitter()\n",
    "#fitter = fitting.LevMarLSQFitter()\n",
    "ints = np.ones(len(bootinds),dtype=np.float64) \n",
    "#fig,ax = plt.subplots()\n",
    "\n",
    "#clipped = []\n",
    "\n",
    "#clipped = []\n",
    "\n",
    "for i,bs in enumerate(bootinds):\n",
    "    w=(1.0/yerr[bs])**2\n",
    "    #w=np.ones(len(yerr[bs]),dtype=np.float64)\n",
    "    #best_fit = fitter(model, x[bs], y[bs], weights=w)\n",
    "    best_fit, sigma_clipped = fitter(model, x[bs], y[bs], weights=w)\n",
    "    ints[i] = best_fit.intercept.value\n",
    "    #if bs[sigma_clipped].size > 0:\n",
    "    #    for b in bs[sigma_clipped]:\n",
    "    #        clipped.append(b)\n",
    "    #    #[clipped.append(b) for b in bs[sigma_clipped]]\n",
    "    #clipped.add_row(sigma_clipped)\n",
    "    #clipped.append(bs[sigma_clipped])\n",
    "\n",
    "#np.mean(ints)\n",
    "#np.median(ints)\n",
    "fig,ax=plt.subplots(figsize=(9,9))\n",
    "sns.distplot(ints, ax=ax)\n",
    "ax.axvline(np.mean(ints),color='black')\n",
    "ax.axvline(np.median(ints))"
   ]
  },
  {
   "cell_type": "code",
   "execution_count": 56,
   "metadata": {},
   "outputs": [
    {
     "name": "stdout",
     "output_type": "stream",
     "text": [
      "-0.03670785839029989 0.06428884960460056\n"
     ]
    }
   ],
   "source": [
    "ints.sort()\n",
    "print(np.nanmedian(ints),np.std(ints))"
   ]
  },
  {
   "cell_type": "code",
   "execution_count": 57,
   "metadata": {},
   "outputs": [
    {
     "data": {
      "text/plain": [
       "(0.017567140026660977, -0.08895305080185212)"
      ]
     },
     "execution_count": 57,
     "metadata": {},
     "output_type": "execute_result"
    }
   ],
   "source": [
    "np.nanpercentile(ints,50+68.27/2),np.nanpercentile(ints,50-68.27/2)"
   ]
  },
  {
   "cell_type": "code",
   "execution_count": 59,
   "metadata": {},
   "outputs": [
    {
     "data": {
      "text/plain": [
       "<matplotlib.axes._subplots.AxesSubplot at 0x1a22eac710>"
      ]
     },
     "execution_count": 59,
     "metadata": {},
     "output_type": "execute_result"
    },
    {
     "data": {
      "image/png": "[encoded data removed]",
      "text/plain": [
       "<Figure size 432x288 with 1 Axes>"
      ]
     },
     "metadata": {
      "needs_background": "light"
     },
     "output_type": "display_data"
    }
   ],
   "source": [
    "S=pd.Series(clipped)\n",
    "S.value_counts()\n",
    "sns.distplot(S,kde=False,bins=np.arange(14)-0.5)"
   ]
  },
  {
   "cell_type": "code",
   "execution_count": 112,
   "metadata": {},
   "outputs": [
    {
     "data": {
      "application/javascript": [
       "/* Put everything inside the global mpl namespace */\n",
       "/* global mpl */\n",
       "window.mpl = {};\n",
       "\n",
       "mpl.get_websocket_type = function () {\n",
       "    if (typeof WebSocket !== 'undefined') {\n",
       "        return WebSocket;\n",
       "    } else if (typeof MozWebSocket !== 'undefined') {\n",
       "        return MozWebSocket;\n",
       "    } else {\n",
       "        alert(\n",
       "            'Your browser does not have WebSocket support. ' +\n",
       "                'Please try Chrome, Safari or Firefox ≥ 6. ' +\n",
       "                'Firefox 4 and 5 are also supported but you ' +\n",
       "                'have to enable WebSockets in about:config.'\n",
       "        );\n",
       "    }\n",
       "};\n",
       "\n",
       "mpl.figure = function (figure_id, websocket, ondownload, parent_element) {\n",
       "    this.id = figure_id;\n",
       "\n",
       "    this.ws = websocket;\n",
       "\n",
       "    this.supports_binary = this.ws.binaryType !== undefined;\n",
       "\n",
       "    if (!this.supports_binary) {\n",
       "        var warnings = document.getElementById('mpl-warnings');\n",
       "        if (warnings) {\n",
       "            warnings.style.display = 'block';\n",
       "            warnings.textContent =\n",
       "                'This browser does not support binary websocket messages. ' +\n",
       "                'Performance may be slow.';\n",
       "        }\n",
       "    }\n",
       "\n",
       "    this.imageObj = new Image();\n",
       "\n",
       "    this.context = undefined;\n",
       "    this.message = undefined;\n",
       "    this.canvas = undefined;\n",
       "    this.rubberband_canvas = undefined;\n",
       "    this.rubberband_context = undefined;\n",
       "    this.format_dropdown = undefined;\n",
       "\n",
       "    this.image_mode = 'full';\n",
       "\n",
       "    this.root = document.createElement('div');\n",
       "    this.root.setAttribute('style', 'display: inline-block');\n",
       "    this._root_extra_style(this.root);\n",
       "\n",
       "    parent_element.appendChild(this.root);\n",
       "\n",
       "    this._init_header(this);\n",
       "    this._init_canvas(this);\n",
       "    this._init_toolbar(this);\n",
       "\n",
       "    var fig = this;\n",
       "\n",
       "    this.waiting = false;\n",
       "\n",
       "    this.ws.onopen = function () {\n",
       "        fig.send_message('supports_binary', { value: fig.supports_binary });\n",
       "        fig.send_message('send_image_mode', {});\n",
       "        if (mpl.ratio !== 1) {\n",
       "            fig.send_message('set_dpi_ratio', { dpi_ratio: mpl.ratio });\n",
       "        }\n",
       "        fig.send_message('refresh', {});\n",
       "    };\n",
       "\n",
       "    this.imageObj.onload = function () {\n",
       "        if (fig.image_mode === 'full') {\n",
       "            // Full images could contain transparency (where diff images\n",
       "            // almost always do), so we need to clear the canvas so that\n",
       "            // there is no ghosting.\n",
       "            fig.context.clearRect(0, 0, fig.canvas.width, fig.canvas.height);\n",
       "        }\n",
       "        fig.context.drawImage(fig.imageObj, 0, 0);\n",
       "    };\n",
       "\n",
       "    this.imageObj.onunload = function () {\n",
       "        fig.ws.close();\n",
       "    };\n",
       "\n",
       "    this.ws.onmessage = this._make_on_message_function(this);\n",
       "\n",
       "    this.ondownload = ondownload;\n",
       "};\n",
       "\n",
       "mpl.figure.prototype._init_header = function () {\n",
       "    var titlebar = document.createElement('div');\n",
       "    titlebar.classList =\n",
       "        'ui-dialog-titlebar ui-widget-header ui-corner-all ui-helper-clearfix';\n",
       "    var titletext = document.createElement('div');\n",
       "    titletext.classList = 'ui-dialog-title';\n",
       "    titletext.setAttribute(\n",
       "        'style',\n",
       "        'width: 100%; text-align: center; padding: 3px;'\n",
       "    );\n",
       "    titlebar.appendChild(titletext);\n",
       "    this.root.appendChild(titlebar);\n",
       "    this.header = titletext;\n",
       "};\n",
       "\n",
       "mpl.figure.prototype._canvas_extra_style = function (_canvas_div) {};\n",
       "\n",
       "mpl.figure.prototype._root_extra_style = function (_canvas_div) {};\n",
       "\n",
       "mpl.figure.prototype._init_canvas = function () {\n",
       "    var fig = this;\n",
       "\n",
       "    var canvas_div = (this.canvas_div = document.createElement('div'));\n",
       "    canvas_div.setAttribute(\n",
       "        'style',\n",
       "        'border: 1px solid #ddd;' +\n",
       "            'box-sizing: content-box;' +\n",
       "            'clear: both;' +\n",
       "            'min-height: 1px;' +\n",
       "            'min-width: 1px;' +\n",
       "            'outline: 0;' +\n",
       "            'overflow: hidden;' +\n",
       "            'position: relative;' +\n",
       "            'resize: both;'\n",
       "    );\n",
       "\n",
       "    function on_keyboard_event_closure(name) {\n",
       "        return function (event) {\n",
       "            return fig.key_event(event, name);\n",
       "        };\n",
       "    }\n",
       "\n",
       "    canvas_div.addEventListener(\n",
       "        'keydown',\n",
       "        on_keyboard_event_closure('key_press')\n",
       "    );\n",
       "    canvas_div.addEventListener(\n",
       "        'keyup',\n",
       "        on_keyboard_event_closure('key_release')\n",
       "    );\n",
       "\n",
       "    this._canvas_extra_style(canvas_div);\n",
       "    this.root.appendChild(canvas_div);\n",
       "\n",
       "    var canvas = (this.canvas = document.createElement('canvas'));\n",
       "    canvas.classList.add('mpl-canvas');\n",
       "    canvas.setAttribute('style', 'box-sizing: content-box;');\n",
       "\n",
       "    this.context = canvas.getContext('2d');\n",
       "\n",
       "    var backingStore =\n",
       "        this.context.backingStorePixelRatio ||\n",
       "        this.context.webkitBackingStorePixelRatio ||\n",
       "        this.context.mozBackingStorePixelRatio ||\n",
       "        this.context.msBackingStorePixelRatio ||\n",
       "        this.context.oBackingStorePixelRatio ||\n",
       "        this.context.backingStorePixelRatio ||\n",
       "        1;\n",
       "\n",
       "    mpl.ratio = (window.devicePixelRatio || 1) / backingStore;\n",
       "\n",
       "    var rubberband_canvas = (this.rubberband_canvas = document.createElement(\n",
       "        'canvas'\n",
       "    ));\n",
       "    rubberband_canvas.setAttribute(\n",
       "        'style',\n",
       "        'box-sizing: content-box; position: absolute; left: 0; top: 0; z-index: 1;'\n",
       "    );\n",
       "\n",
       "    var resizeObserver = new ResizeObserver(function (entries) {\n",
       "        var nentries = entries.length;\n",
       "        for (var i = 0; i < nentries; i++) {\n",
       "            var entry = entries[i];\n",
       "            var width, height;\n",
       "            if (entry.contentBoxSize) {\n",
       "                if (entry.contentBoxSize instanceof Array) {\n",
       "                    // Chrome 84 implements new version of spec.\n",
       "                    width = entry.contentBoxSize[0].inlineSize;\n",
       "                    height = entry.contentBoxSize[0].blockSize;\n",
       "                } else {\n",
       "                    // Firefox implements old version of spec.\n",
       "                    width = entry.contentBoxSize.inlineSize;\n",
       "                    height = entry.contentBoxSize.blockSize;\n",
       "                }\n",
       "            } else {\n",
       "                // Chrome <84 implements even older version of spec.\n",
       "                width = entry.contentRect.width;\n",
       "                height = entry.contentRect.height;\n",
       "            }\n",
       "\n",
       "            // Keep the size of the canvas and rubber band canvas in sync with\n",
       "            // the canvas container.\n",
       "            if (entry.devicePixelContentBoxSize) {\n",
       "                // Chrome 84 implements new version of spec.\n",
       "                canvas.setAttribute(\n",
       "                    'width',\n",
       "                    entry.devicePixelContentBoxSize[0].inlineSize\n",
       "                );\n",
       "                canvas.setAttribute(\n",
       "                    'height',\n",
       "                    entry.devicePixelContentBoxSize[0].blockSize\n",
       "                );\n",
       "            } else {\n",
       "                canvas.setAttribute('width', width * mpl.ratio);\n",
       "                canvas.setAttribute('height', height * mpl.ratio);\n",
       "            }\n",
       "            canvas.setAttribute(\n",
       "                'style',\n",
       "                'width: ' + width + 'px; height: ' + height + 'px;'\n",
       "            );\n",
       "\n",
       "            rubberband_canvas.setAttribute('width', width);\n",
       "            rubberband_canvas.setAttribute('height', height);\n",
       "\n",
       "            // And update the size in Python. We ignore the initial 0/0 size\n",
       "            // that occurs as the element is placed into the DOM, which should\n",
       "            // otherwise not happen due to the minimum size styling.\n",
       "            if (width != 0 && height != 0) {\n",
       "                fig.request_resize(width, height);\n",
       "            }\n",
       "        }\n",
       "    });\n",
       "    resizeObserver.observe(canvas_div);\n",
       "\n",
       "    function on_mouse_event_closure(name) {\n",
       "        return function (event) {\n",
       "            return fig.mouse_event(event, name);\n",
       "        };\n",
       "    }\n",
       "\n",
       "    rubberband_canvas.addEventListener(\n",
       "        'mousedown',\n",
       "        on_mouse_event_closure('button_press')\n",
       "    );\n",
       "    rubberband_canvas.addEventListener(\n",
       "        'mouseup',\n",
       "        on_mouse_event_closure('button_release')\n",
       "    );\n",
       "    // Throttle sequential mouse events to 1 every 20ms.\n",
       "    rubberband_canvas.addEventListener(\n",
       "        'mousemove',\n",
       "        on_mouse_event_closure('motion_notify')\n",
       "    );\n",
       "\n",
       "    rubberband_canvas.addEventListener(\n",
       "        'mouseenter',\n",
       "        on_mouse_event_closure('figure_enter')\n",
       "    );\n",
       "    rubberband_canvas.addEventListener(\n",
       "        'mouseleave',\n",
       "        on_mouse_event_closure('figure_leave')\n",
       "    );\n",
       "\n",
       "    canvas_div.addEventListener('wheel', function (event) {\n",
       "        if (event.deltaY < 0) {\n",
       "            event.step = 1;\n",
       "        } else {\n",
       "            event.step = -1;\n",
       "        }\n",
       "        on_mouse_event_closure('scroll')(event);\n",
       "    });\n",
       "\n",
       "    canvas_div.appendChild(canvas);\n",
       "    canvas_div.appendChild(rubberband_canvas);\n",
       "\n",
       "    this.rubberband_context = rubberband_canvas.getContext('2d');\n",
       "    this.rubberband_context.strokeStyle = '#000000';\n",
       "\n",
       "    this._resize_canvas = function (width, height, forward) {\n",
       "        if (forward) {\n",
       "            canvas_div.style.width = width + 'px';\n",
       "            canvas_div.style.height = height + 'px';\n",
       "        }\n",
       "    };\n",
       "\n",
       "    // Disable right mouse context menu.\n",
       "    this.rubberband_canvas.addEventListener('contextmenu', function (_e) {\n",
       "        event.preventDefault();\n",
       "        return false;\n",
       "    });\n",
       "\n",
       "    function set_focus() {\n",
       "        canvas.focus();\n",
       "        canvas_div.focus();\n",
       "    }\n",
       "\n",
       "    window.setTimeout(set_focus, 100);\n",
       "};\n",
       "\n",
       "mpl.figure.prototype._init_toolbar = function () {\n",
       "    var fig = this;\n",
       "\n",
       "    var toolbar = document.createElement('div');\n",
       "    toolbar.classList = 'mpl-toolbar';\n",
       "    this.root.appendChild(toolbar);\n",
       "\n",
       "    function on_click_closure(name) {\n",
       "        return function (_event) {\n",
       "            return fig.toolbar_button_onclick(name);\n",
       "        };\n",
       "    }\n",
       "\n",
       "    function on_mouseover_closure(tooltip) {\n",
       "        return function (event) {\n",
       "            if (!event.currentTarget.disabled) {\n",
       "                return fig.toolbar_button_onmouseover(tooltip);\n",
       "            }\n",
       "        };\n",
       "    }\n",
       "\n",
       "    fig.buttons = {};\n",
       "    var buttonGroup = document.createElement('div');\n",
       "    buttonGroup.classList = 'mpl-button-group';\n",
       "    for (var toolbar_ind in mpl.toolbar_items) {\n",
       "        var name = mpl.toolbar_items[toolbar_ind][0];\n",
       "        var tooltip = mpl.toolbar_items[toolbar_ind][1];\n",
       "        var image = mpl.toolbar_items[toolbar_ind][2];\n",
       "        var method_name = mpl.toolbar_items[toolbar_ind][3];\n",
       "\n",
       "        if (!name) {\n",
       "            /* Instead of a spacer, we start a new button group. */\n",
       "            if (buttonGroup.hasChildNodes()) {\n",
       "                toolbar.appendChild(buttonGroup);\n",
       "            }\n",
       "            buttonGroup = document.createElement('div');\n",
       "            buttonGroup.classList = 'mpl-button-group';\n",
       "            continue;\n",
       "        }\n",
       "\n",
       "        var button = (fig.buttons[name] = document.createElement('button'));\n",
       "        button.classList = 'mpl-widget';\n",
       "        button.setAttribute('role', 'button');\n",
       "        button.setAttribute('aria-disabled', 'false');\n",
       "        button.addEventListener('click', on_click_closure(method_name));\n",
       "        button.addEventListener('mouseover', on_mouseover_closure(tooltip));\n",
       "\n",
       "        var icon_img = document.createElement('img');\n",
       "        icon_img.src = '_images/' + image + '.png';\n",
       "        icon_img.srcset = '_images/' + image + '_large.png 2x';\n",
       "        icon_img.alt = tooltip;\n",
       "        button.appendChild(icon_img);\n",
       "\n",
       "        buttonGroup.appendChild(button);\n",
       "    }\n",
       "\n",
       "    if (buttonGroup.hasChildNodes()) {\n",
       "        toolbar.appendChild(buttonGroup);\n",
       "    }\n",
       "\n",
       "    var fmt_picker = document.createElement('select');\n",
       "    fmt_picker.classList = 'mpl-widget';\n",
       "    toolbar.appendChild(fmt_picker);\n",
       "    this.format_dropdown = fmt_picker;\n",
       "\n",
       "    for (var ind in mpl.extensions) {\n",
       "        var fmt = mpl.extensions[ind];\n",
       "        var option = document.createElement('option');\n",
       "        option.selected = fmt === mpl.default_extension;\n",
       "        option.innerHTML = fmt;\n",
       "        fmt_picker.appendChild(option);\n",
       "    }\n",
       "\n",
       "    var status_bar = document.createElement('span');\n",
       "    status_bar.classList = 'mpl-message';\n",
       "    toolbar.appendChild(status_bar);\n",
       "    this.message = status_bar;\n",
       "};\n",
       "\n",
       "mpl.figure.prototype.request_resize = function (x_pixels, y_pixels) {\n",
       "    // Request matplotlib to resize the figure. Matplotlib will then trigger a resize in the client,\n",
       "    // which will in turn request a refresh of the image.\n",
       "    this.send_message('resize', { width: x_pixels, height: y_pixels });\n",
       "};\n",
       "\n",
       "mpl.figure.prototype.send_message = function (type, properties) {\n",
       "    properties['type'] = type;\n",
       "    properties['figure_id'] = this.id;\n",
       "    this.ws.send(JSON.stringify(properties));\n",
       "};\n",
       "\n",
       "mpl.figure.prototype.send_draw_message = function () {\n",
       "    if (!this.waiting) {\n",
       "        this.waiting = true;\n",
       "        this.ws.send(JSON.stringify({ type: 'draw', figure_id: this.id }));\n",
       "    }\n",
       "};\n",
       "\n",
       "mpl.figure.prototype.handle_save = function (fig, _msg) {\n",
       "    var format_dropdown = fig.format_dropdown;\n",
       "    var format = format_dropdown.options[format_dropdown.selectedIndex].value;\n",
       "    fig.ondownload(fig, format);\n",
       "};\n",
       "\n",
       "mpl.figure.prototype.handle_resize = function (fig, msg) {\n",
       "    var size = msg['size'];\n",
       "    if (size[0] !== fig.canvas.width || size[1] !== fig.canvas.height) {\n",
       "        fig._resize_canvas(size[0], size[1], msg['forward']);\n",
       "        fig.send_message('refresh', {});\n",
       "    }\n",
       "};\n",
       "\n",
       "mpl.figure.prototype.handle_rubberband = function (fig, msg) {\n",
       "    var x0 = msg['x0'] / mpl.ratio;\n",
       "    var y0 = (fig.canvas.height - msg['y0']) / mpl.ratio;\n",
       "    var x1 = msg['x1'] / mpl.ratio;\n",
       "    var y1 = (fig.canvas.height - msg['y1']) / mpl.ratio;\n",
       "    x0 = Math.floor(x0) + 0.5;\n",
       "    y0 = Math.floor(y0) + 0.5;\n",
       "    x1 = Math.floor(x1) + 0.5;\n",
       "    y1 = Math.floor(y1) + 0.5;\n",
       "    var min_x = Math.min(x0, x1);\n",
       "    var min_y = Math.min(y0, y1);\n",
       "    var width = Math.abs(x1 - x0);\n",
       "    var height = Math.abs(y1 - y0);\n",
       "\n",
       "    fig.rubberband_context.clearRect(\n",
       "        0,\n",
       "        0,\n",
       "        fig.canvas.width / mpl.ratio,\n",
       "        fig.canvas.height / mpl.ratio\n",
       "    );\n",
       "\n",
       "    fig.rubberband_context.strokeRect(min_x, min_y, width, height);\n",
       "};\n",
       "\n",
       "mpl.figure.prototype.handle_figure_label = function (fig, msg) {\n",
       "    // Updates the figure title.\n",
       "    fig.header.textContent = msg['label'];\n",
       "};\n",
       "\n",
       "mpl.figure.prototype.handle_cursor = function (fig, msg) {\n",
       "    var cursor = msg['cursor'];\n",
       "    switch (cursor) {\n",
       "        case 0:\n",
       "            cursor = 'pointer';\n",
       "            break;\n",
       "        case 1:\n",
       "            cursor = 'default';\n",
       "            break;\n",
       "        case 2:\n",
       "            cursor = 'crosshair';\n",
       "            break;\n",
       "        case 3:\n",
       "            cursor = 'move';\n",
       "            break;\n",
       "    }\n",
       "    fig.rubberband_canvas.style.cursor = cursor;\n",
       "};\n",
       "\n",
       "mpl.figure.prototype.handle_message = function (fig, msg) {\n",
       "    fig.message.textContent = msg['message'];\n",
       "};\n",
       "\n",
       "mpl.figure.prototype.handle_draw = function (fig, _msg) {\n",
       "    // Request the server to send over a new figure.\n",
       "    fig.send_draw_message();\n",
       "};\n",
       "\n",
       "mpl.figure.prototype.handle_image_mode = function (fig, msg) {\n",
       "    fig.image_mode = msg['mode'];\n",
       "};\n",
       "\n",
       "mpl.figure.prototype.handle_history_buttons = function (fig, msg) {\n",
       "    for (var key in msg) {\n",
       "        if (!(key in fig.buttons)) {\n",
       "            continue;\n",
       "        }\n",
       "        fig.buttons[key].disabled = !msg[key];\n",
       "        fig.buttons[key].setAttribute('aria-disabled', !msg[key]);\n",
       "    }\n",
       "};\n",
       "\n",
       "mpl.figure.prototype.handle_navigate_mode = function (fig, msg) {\n",
       "    if (msg['mode'] === 'PAN') {\n",
       "        fig.buttons['Pan'].classList.add('active');\n",
       "        fig.buttons['Zoom'].classList.remove('active');\n",
       "    } else if (msg['mode'] === 'ZOOM') {\n",
       "        fig.buttons['Pan'].classList.remove('active');\n",
       "        fig.buttons['Zoom'].classList.add('active');\n",
       "    } else {\n",
       "        fig.buttons['Pan'].classList.remove('active');\n",
       "        fig.buttons['Zoom'].classList.remove('active');\n",
       "    }\n",
       "};\n",
       "\n",
       "mpl.figure.prototype.updated_canvas_event = function () {\n",
       "    // Called whenever the canvas gets updated.\n",
       "    this.send_message('ack', {});\n",
       "};\n",
       "\n",
       "// A function to construct a web socket function for onmessage handling.\n",
       "// Called in the figure constructor.\n",
       "mpl.figure.prototype._make_on_message_function = function (fig) {\n",
       "    return function socket_on_message(evt) {\n",
       "        if (evt.data instanceof Blob) {\n",
       "            /* FIXME: We get \"Resource interpreted as Image but\n",
       "             * transferred with MIME type text/plain:\" errors on\n",
       "             * Chrome.  But how to set the MIME type?  It doesn't seem\n",
       "             * to be part of the websocket stream */\n",
       "            evt.data.type = 'image/png';\n",
       "\n",
       "            /* Free the memory for the previous frames */\n",
       "            if (fig.imageObj.src) {\n",
       "                (window.URL || window.webkitURL).revokeObjectURL(\n",
       "                    fig.imageObj.src\n",
       "                );\n",
       "            }\n",
       "\n",
       "            fig.imageObj.src = (window.URL || window.webkitURL).createObjectURL(\n",
       "                evt.data\n",
       "            );\n",
       "            fig.updated_canvas_event();\n",
       "            fig.waiting = false;\n",
       "            return;\n",
       "        } else if (\n",
       "            typeof evt.data === 'string' &&\n",
       "            evt.data.slice(0, 21) === 'data:image/png;base64'\n",
       "        ) {\n",
       "            fig.imageObj.src = evt.data;\n",
       "            fig.updated_canvas_event();\n",
       "            fig.waiting = false;\n",
       "            return;\n",
       "        }\n",
       "\n",
       "        var msg = JSON.parse(evt.data);\n",
       "        var msg_type = msg['type'];\n",
       "\n",
       "        // Call the  \"handle_{type}\" callback, which takes\n",
       "        // the figure and JSON message as its only arguments.\n",
       "        try {\n",
       "            var callback = fig['handle_' + msg_type];\n",
       "        } catch (e) {\n",
       "            console.log(\n",
       "                \"No handler for the '\" + msg_type + \"' message type: \",\n",
       "                msg\n",
       "            );\n",
       "            return;\n",
       "        }\n",
       "\n",
       "        if (callback) {\n",
       "            try {\n",
       "                // console.log(\"Handling '\" + msg_type + \"' message: \", msg);\n",
       "                callback(fig, msg);\n",
       "            } catch (e) {\n",
       "                console.log(\n",
       "                    \"Exception inside the 'handler_\" + msg_type + \"' callback:\",\n",
       "                    e,\n",
       "                    e.stack,\n",
       "                    msg\n",
       "                );\n",
       "            }\n",
       "        }\n",
       "    };\n",
       "};\n",
       "\n",
       "// from http://stackoverflow.com/questions/1114465/getting-mouse-location-in-canvas\n",
       "mpl.findpos = function (e) {\n",
       "    //this section is from http://www.quirksmode.org/js/events_properties.html\n",
       "    var targ;\n",
       "    if (!e) {\n",
       "        e = window.event;\n",
       "    }\n",
       "    if (e.target) {\n",
       "        targ = e.target;\n",
       "    } else if (e.srcElement) {\n",
       "        targ = e.srcElement;\n",
       "    }\n",
       "    if (targ.nodeType === 3) {\n",
       "        // defeat Safari bug\n",
       "        targ = targ.parentNode;\n",
       "    }\n",
       "\n",
       "    // pageX,Y are the mouse positions relative to the document\n",
       "    var boundingRect = targ.getBoundingClientRect();\n",
       "    var x = e.pageX - (boundingRect.left + document.body.scrollLeft);\n",
       "    var y = e.pageY - (boundingRect.top + document.body.scrollTop);\n",
       "\n",
       "    return { x: x, y: y };\n",
       "};\n",
       "\n",
       "/*\n",
       " * return a copy of an object with only non-object keys\n",
       " * we need this to avoid circular references\n",
       " * http://stackoverflow.com/a/24161582/3208463\n",
       " */\n",
       "function simpleKeys(original) {\n",
       "    return Object.keys(original).reduce(function (obj, key) {\n",
       "        if (typeof original[key] !== 'object') {\n",
       "            obj[key] = original[key];\n",
       "        }\n",
       "        return obj;\n",
       "    }, {});\n",
       "}\n",
       "\n",
       "mpl.figure.prototype.mouse_event = function (event, name) {\n",
       "    var canvas_pos = mpl.findpos(event);\n",
       "\n",
       "    if (name === 'button_press') {\n",
       "        this.canvas.focus();\n",
       "        this.canvas_div.focus();\n",
       "    }\n",
       "\n",
       "    var x = canvas_pos.x * mpl.ratio;\n",
       "    var y = canvas_pos.y * mpl.ratio;\n",
       "\n",
       "    this.send_message(name, {\n",
       "        x: x,\n",
       "        y: y,\n",
       "        button: event.button,\n",
       "        step: event.step,\n",
       "        guiEvent: simpleKeys(event),\n",
       "    });\n",
       "\n",
       "    /* This prevents the web browser from automatically changing to\n",
       "     * the text insertion cursor when the button is pressed.  We want\n",
       "     * to control all of the cursor setting manually through the\n",
       "     * 'cursor' event from matplotlib */\n",
       "    event.preventDefault();\n",
       "    return false;\n",
       "};\n",
       "\n",
       "mpl.figure.prototype._key_event_extra = function (_event, _name) {\n",
       "    // Handle any extra behaviour associated with a key event\n",
       "};\n",
       "\n",
       "mpl.figure.prototype.key_event = function (event, name) {\n",
       "    // Prevent repeat events\n",
       "    if (name === 'key_press') {\n",
       "        if (event.which === this._key) {\n",
       "            return;\n",
       "        } else {\n",
       "            this._key = event.which;\n",
       "        }\n",
       "    }\n",
       "    if (name === 'key_release') {\n",
       "        this._key = null;\n",
       "    }\n",
       "\n",
       "    var value = '';\n",
       "    if (event.ctrlKey && event.which !== 17) {\n",
       "        value += 'ctrl+';\n",
       "    }\n",
       "    if (event.altKey && event.which !== 18) {\n",
       "        value += 'alt+';\n",
       "    }\n",
       "    if (event.shiftKey && event.which !== 16) {\n",
       "        value += 'shift+';\n",
       "    }\n",
       "\n",
       "    value += 'k';\n",
       "    value += event.which.toString();\n",
       "\n",
       "    this._key_event_extra(event, name);\n",
       "\n",
       "    this.send_message(name, { key: value, guiEvent: simpleKeys(event) });\n",
       "    return false;\n",
       "};\n",
       "\n",
       "mpl.figure.prototype.toolbar_button_onclick = function (name) {\n",
       "    if (name === 'download') {\n",
       "        this.handle_save(this, null);\n",
       "    } else {\n",
       "        this.send_message('toolbar_button', { name: name });\n",
       "    }\n",
       "};\n",
       "\n",
       "mpl.figure.prototype.toolbar_button_onmouseover = function (tooltip) {\n",
       "    this.message.textContent = tooltip;\n",
       "};\n",
       "mpl.toolbar_items = [[\"Home\", \"Reset original view\", \"fa fa-home icon-home\", \"home\"], [\"Back\", \"Back to previous view\", \"fa fa-arrow-left icon-arrow-left\", \"back\"], [\"Forward\", \"Forward to next view\", \"fa fa-arrow-right icon-arrow-right\", \"forward\"], [\"\", \"\", \"\", \"\"], [\"Pan\", \"Left button pans, Right button zooms\\nx/y fixes axis, CTRL fixes aspect\", \"fa fa-arrows icon-move\", \"pan\"], [\"Zoom\", \"Zoom to rectangle\\nx/y fixes axis, CTRL fixes aspect\", \"fa fa-square-o icon-check-empty\", \"zoom\"], [\"\", \"\", \"\", \"\"], [\"Download\", \"Download plot\", \"fa fa-floppy-o icon-save\", \"download\"]];\n",
       "\n",
       "mpl.extensions = [\"eps\", \"jpeg\", \"pdf\", \"png\", \"ps\", \"raw\", \"svg\", \"tif\"];\n",
       "\n",
       "mpl.default_extension = \"png\";/* global mpl */\n",
       "\n",
       "var comm_websocket_adapter = function (comm) {\n",
       "    // Create a \"websocket\"-like object which calls the given IPython comm\n",
       "    // object with the appropriate methods. Currently this is a non binary\n",
       "    // socket, so there is still some room for performance tuning.\n",
       "    var ws = {};\n",
       "\n",
       "    ws.close = function () {\n",
       "        comm.close();\n",
       "    };\n",
       "    ws.send = function (m) {\n",
       "        //console.log('sending', m);\n",
       "        comm.send(m);\n",
       "    };\n",
       "    // Register the callback with on_msg.\n",
       "    comm.on_msg(function (msg) {\n",
       "        //console.log('receiving', msg['content']['data'], msg);\n",
       "        // Pass the mpl event to the overridden (by mpl) onmessage function.\n",
       "        ws.onmessage(msg['content']['data']);\n",
       "    });\n",
       "    return ws;\n",
       "};\n",
       "\n",
       "mpl.mpl_figure_comm = function (comm, msg) {\n",
       "    // This is the function which gets called when the mpl process\n",
       "    // starts-up an IPython Comm through the \"matplotlib\" channel.\n",
       "\n",
       "    var id = msg.content.data.id;\n",
       "    // Get hold of the div created by the display call when the Comm\n",
       "    // socket was opened in Python.\n",
       "    var element = document.getElementById(id);\n",
       "    var ws_proxy = comm_websocket_adapter(comm);\n",
       "\n",
       "    function ondownload(figure, _format) {\n",
       "        window.open(figure.canvas.toDataURL());\n",
       "    }\n",
       "\n",
       "    var fig = new mpl.figure(id, ws_proxy, ondownload, element);\n",
       "\n",
       "    // Call onopen now - mpl needs it, as it is assuming we've passed it a real\n",
       "    // web socket which is closed, not our websocket->open comm proxy.\n",
       "    ws_proxy.onopen();\n",
       "\n",
       "    fig.parent_element = element;\n",
       "    fig.cell_info = mpl.find_output_cell(\"<div id='\" + id + \"'></div>\");\n",
       "    if (!fig.cell_info) {\n",
       "        console.error('Failed to find cell for figure', id, fig);\n",
       "        return;\n",
       "    }\n",
       "};\n",
       "\n",
       "mpl.figure.prototype.handle_close = function (fig, msg) {\n",
       "    var width = fig.canvas.width / mpl.ratio;\n",
       "    fig.root.removeEventListener('remove', this._remove_fig_handler);\n",
       "\n",
       "    // Update the output cell to use the data from the current canvas.\n",
       "    fig.push_to_output();\n",
       "    var dataURL = fig.canvas.toDataURL();\n",
       "    // Re-enable the keyboard manager in IPython - without this line, in FF,\n",
       "    // the notebook keyboard shortcuts fail.\n",
       "    IPython.keyboard_manager.enable();\n",
       "    fig.parent_element.innerHTML =\n",
       "        '<img src=\"' + dataURL + '\" width=\"' + width + '\">';\n",
       "    fig.close_ws(fig, msg);\n",
       "};\n",
       "\n",
       "mpl.figure.prototype.close_ws = function (fig, msg) {\n",
       "    fig.send_message('closing', msg);\n",
       "    // fig.ws.close()\n",
       "};\n",
       "\n",
       "mpl.figure.prototype.push_to_output = function (_remove_interactive) {\n",
       "    // Turn the data on the canvas into data in the output cell.\n",
       "    var width = this.canvas.width / mpl.ratio;\n",
       "    var dataURL = this.canvas.toDataURL();\n",
       "    this.cell_info[1]['text/html'] =\n",
       "        '<img src=\"' + dataURL + '\" width=\"' + width + '\">';\n",
       "};\n",
       "\n",
       "mpl.figure.prototype.updated_canvas_event = function () {\n",
       "    // Tell IPython that the notebook contents must change.\n",
       "    IPython.notebook.set_dirty(true);\n",
       "    this.send_message('ack', {});\n",
       "    var fig = this;\n",
       "    // Wait a second, then push the new image to the DOM so\n",
       "    // that it is saved nicely (might be nice to debounce this).\n",
       "    setTimeout(function () {\n",
       "        fig.push_to_output();\n",
       "    }, 1000);\n",
       "};\n",
       "\n",
       "mpl.figure.prototype._init_toolbar = function () {\n",
       "    var fig = this;\n",
       "\n",
       "    var toolbar = document.createElement('div');\n",
       "    toolbar.classList = 'btn-toolbar';\n",
       "    this.root.appendChild(toolbar);\n",
       "\n",
       "    function on_click_closure(name) {\n",
       "        return function (_event) {\n",
       "            return fig.toolbar_button_onclick(name);\n",
       "        };\n",
       "    }\n",
       "\n",
       "    function on_mouseover_closure(tooltip) {\n",
       "        return function (event) {\n",
       "            if (!event.currentTarget.disabled) {\n",
       "                return fig.toolbar_button_onmouseover(tooltip);\n",
       "            }\n",
       "        };\n",
       "    }\n",
       "\n",
       "    fig.buttons = {};\n",
       "    var buttonGroup = document.createElement('div');\n",
       "    buttonGroup.classList = 'btn-group';\n",
       "    var button;\n",
       "    for (var toolbar_ind in mpl.toolbar_items) {\n",
       "        var name = mpl.toolbar_items[toolbar_ind][0];\n",
       "        var tooltip = mpl.toolbar_items[toolbar_ind][1];\n",
       "        var image = mpl.toolbar_items[toolbar_ind][2];\n",
       "        var method_name = mpl.toolbar_items[toolbar_ind][3];\n",
       "\n",
       "        if (!name) {\n",
       "            /* Instead of a spacer, we start a new button group. */\n",
       "            if (buttonGroup.hasChildNodes()) {\n",
       "                toolbar.appendChild(buttonGroup);\n",
       "            }\n",
       "            buttonGroup = document.createElement('div');\n",
       "            buttonGroup.classList = 'btn-group';\n",
       "            continue;\n",
       "        }\n",
       "\n",
       "        button = fig.buttons[name] = document.createElement('button');\n",
       "        button.classList = 'btn btn-default';\n",
       "        button.href = '#';\n",
       "        button.title = name;\n",
       "        button.innerHTML = '<i class=\"fa ' + image + ' fa-lg\"></i>';\n",
       "        button.addEventListener('click', on_click_closure(method_name));\n",
       "        button.addEventListener('mouseover', on_mouseover_closure(tooltip));\n",
       "        buttonGroup.appendChild(button);\n",
       "    }\n",
       "\n",
       "    if (buttonGroup.hasChildNodes()) {\n",
       "        toolbar.appendChild(buttonGroup);\n",
       "    }\n",
       "\n",
       "    // Add the status bar.\n",
       "    var status_bar = document.createElement('span');\n",
       "    status_bar.classList = 'mpl-message pull-right';\n",
       "    toolbar.appendChild(status_bar);\n",
       "    this.message = status_bar;\n",
       "\n",
       "    // Add the close button to the window.\n",
       "    var buttongrp = document.createElement('div');\n",
       "    buttongrp.classList = 'btn-group inline pull-right';\n",
       "    button = document.createElement('button');\n",
       "    button.classList = 'btn btn-mini btn-primary';\n",
       "    button.href = '#';\n",
       "    button.title = 'Stop Interaction';\n",
       "    button.innerHTML = '<i class=\"fa fa-power-off icon-remove icon-large\"></i>';\n",
       "    button.addEventListener('click', function (_evt) {\n",
       "        fig.handle_close(fig, {});\n",
       "    });\n",
       "    button.addEventListener(\n",
       "        'mouseover',\n",
       "        on_mouseover_closure('Stop Interaction')\n",
       "    );\n",
       "    buttongrp.appendChild(button);\n",
       "    var titlebar = this.root.querySelector('.ui-dialog-titlebar');\n",
       "    titlebar.insertBefore(buttongrp, titlebar.firstChild);\n",
       "};\n",
       "\n",
       "mpl.figure.prototype._remove_fig_handler = function () {\n",
       "    this.close_ws(this, {});\n",
       "};\n",
       "\n",
       "mpl.figure.prototype._root_extra_style = function (el) {\n",
       "    el.style.boxSizing = 'content-box'; // override notebook setting of border-box.\n",
       "    el.addEventListener('remove', this._remove_fig_handler);\n",
       "};\n",
       "\n",
       "mpl.figure.prototype._canvas_extra_style = function (el) {\n",
       "    // this is important to make the div 'focusable\n",
       "    el.setAttribute('tabindex', 0);\n",
       "    // reach out to IPython and tell the keyboard manager to turn it's self\n",
       "    // off when our div gets focus\n",
       "\n",
       "    // location in version 3\n",
       "    if (IPython.notebook.keyboard_manager) {\n",
       "        IPython.notebook.keyboard_manager.register_events(el);\n",
       "    } else {\n",
       "        // location in version 2\n",
       "        IPython.keyboard_manager.register_events(el);\n",
       "    }\n",
       "};\n",
       "\n",
       "mpl.figure.prototype._key_event_extra = function (event, _name) {\n",
       "    var manager = IPython.notebook.keyboard_manager;\n",
       "    if (!manager) {\n",
       "        manager = IPython.keyboard_manager;\n",
       "    }\n",
       "\n",
       "    // Check for shift+enter\n",
       "    if (event.shiftKey && event.which === 13) {\n",
       "        this.canvas_div.blur();\n",
       "        // select the cell after this one\n",
       "        var index = IPython.notebook.find_cell_index(this.cell_info[0]);\n",
       "        IPython.notebook.select(index + 1);\n",
       "    }\n",
       "};\n",
       "\n",
       "mpl.figure.prototype.handle_save = function (fig, _msg) {\n",
       "    fig.ondownload(fig, null);\n",
       "};\n",
       "\n",
       "mpl.find_output_cell = function (html_output) {\n",
       "    // Return the cell and output element which can be found *uniquely* in the notebook.\n",
       "    // Note - this is a bit hacky, but it is done because the \"notebook_saving.Notebook\"\n",
       "    // IPython event is triggered only after the cells have been serialised, which for\n",
       "    // our purposes (turning an active figure into a static one), is too late.\n",
       "    var cells = IPython.notebook.get_cells();\n",
       "    var ncells = cells.length;\n",
       "    for (var i = 0; i < ncells; i++) {\n",
       "        var cell = cells[i];\n",
       "        if (cell.cell_type === 'code') {\n",
       "            for (var j = 0; j < cell.output_area.outputs.length; j++) {\n",
       "                var data = cell.output_area.outputs[j];\n",
       "                if (data.data) {\n",
       "                    // IPython >= 3 moved mimebundle to data attribute of output\n",
       "                    data = data.data;\n",
       "                }\n",
       "                if (data['text/html'] === html_output) {\n",
       "                    return [cell, data, j];\n",
       "                }\n",
       "            }\n",
       "        }\n",
       "    }\n",
       "};\n",
       "\n",
       "// Register the function which deals with the matplotlib target/channel.\n",
       "// The kernel may be null if the page has been refreshed.\n",
       "if (IPython.notebook.kernel !== null) {\n",
       "    IPython.notebook.kernel.comm_manager.register_target(\n",
       "        'matplotlib',\n",
       "        mpl.mpl_figure_comm\n",
       "    );\n",
       "}\n"
      ],
      "text/plain": [
       "<IPython.core.display.Javascript object>"
      ]
     },
     "metadata": {},
     "output_type": "display_data"
    },
    {
     "data": {
      "text/html": [
       "<img src=\"data:image/png;base64,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\" width=\"640\">"
      ],
      "text/plain": [
       "<IPython.core.display.HTML object>"
      ]
     },
     "metadata": {},
     "output_type": "display_data"
    },
    {
     "data": {
      "text/plain": [
       "[<matplotlib.lines.Line2D at 0x7f11e6a4c340>]"
      ]
     },
     "execution_count": 112,
     "metadata": {},
     "output_type": "execute_result"
    }
   ],
   "source": [
    "plt.figure()\n",
    "plt.errorbar(AT['mag_cat'],AT['mag_inst'],AT['err_inst'],linestyle='None',marker='o')\n",
    "model.intercept = np.median(ints)\n",
    "plt.plot(np.linspace(11,17.1),model(np.linspace(11,17.1)))\n",
    "model.intercept = -0.1\n",
    "plt.plot(np.linspace(11,17.1),model(np.linspace(11,17.1)))\n",
    "model.intercept = 0.1\n",
    "plt.plot(np.linspace(11,17.1),model(np.linspace(11,17.1)))"
   ]
  },
  {
   "cell_type": "code",
   "execution_count": 7,
   "metadata": {},
   "outputs": [
    {
     "data": {
      "text/plain": [
       "[1.0, 1.0]"
      ]
     },
     "execution_count": 7,
     "metadata": {},
     "output_type": "execute_result"
    }
   ],
   "source": [
    "parnames = ['intercept','test']\n",
    "pars={}\n",
    "\n",
    "for par in parnames:\n",
    "    pars[par]=np.ones(len(bootinds), dtype=np.float64)\n",
    "pars\n",
    "\n",
    "[np.nanmedian(pars[par]) for par in pars]\n",
    "\n",
    "#bp=best_fit.parameters[np.array(best_fit.param_names) == parname][0]"
   ]
  },
  {
   "cell_type": "code",
   "execution_count": null,
   "metadata": {},
   "outputs": [],
   "source": []
  },
  {
   "cell_type": "code",
   "execution_count": 8,
   "metadata": {},
   "outputs": [
    {
     "ename": "SyntaxError",
     "evalue": "invalid syntax (<ipython-input-8-c8bce628663a>, line 3)",
     "output_type": "error",
     "traceback": [
      "\u001b[0;36m  File \u001b[0;32m\"<ipython-input-8-c8bce628663a>\"\u001b[0;36m, line \u001b[0;32m3\u001b[0m\n\u001b[0;31m    [pars[par]=np.ones(len(bootinds), dtype=np.float64) for par in parnames]\u001b[0m\n\u001b[0m              ^\u001b[0m\n\u001b[0;31mSyntaxError\u001b[0m\u001b[0;31m:\u001b[0m invalid syntax\n"
     ]
    }
   ],
   "source": [
    "pars = {}\n",
    "parnames = ['intercept']\n",
    "[pars[par]=np.ones(len(bootinds), dtype=np.float64) for par in parnames]\n",
    "pars"
   ]
  },
  {
   "cell_type": "code",
   "execution_count": null,
   "metadata": {},
   "outputs": [],
   "source": []
  },
  {
   "cell_type": "code",
   "execution_count": 24,
   "metadata": {},
   "outputs": [
    {
     "data": {
      "text/plain": [
       "array([1., 1., 1., 1., 1.])"
      ]
     },
     "execution_count": 24,
     "metadata": {},
     "output_type": "execute_result"
    }
   ],
   "source": [
    "weights[sigma_clipped] = 0\n",
    "weights"
   ]
  },
  {
   "cell_type": "code",
   "execution_count": 30,
   "metadata": {},
   "outputs": [
    {
     "data": {
      "text/plain": [
       "5"
      ]
     },
     "execution_count": 30,
     "metadata": {},
     "output_type": "execute_result"
    }
   ],
   "source": [
    "N=len(weights.nonzero()[0])\n",
    "N"
   ]
  },
  {
   "cell_type": "code",
   "execution_count": 20,
   "metadata": {},
   "outputs": [
    {
     "data": {
      "text/plain": [
       "1"
      ]
     },
     "execution_count": 20,
     "metadata": {},
     "output_type": "execute_result"
    }
   ],
   "source": [
    "weights = w\n",
    "weights[sigma_clipped] = 0 # Trick to make following expression simpler\n",
    "N = len(weights.nonzero())\n",
    "N"
   ]
  },
  {
   "cell_type": "code",
   "execution_count": 429,
   "metadata": {},
   "outputs": [
    {
     "data": {
      "text/plain": [
       "<Linear1D(slope=1., intercept=0.06722017)>"
      ]
     },
     "execution_count": 429,
     "metadata": {},
     "output_type": "execute_result"
    }
   ],
   "source": [
    "model"
   ]
  },
  {
   "cell_type": "code",
   "execution_count": 417,
   "metadata": {},
   "outputs": [],
   "source": []
  },
  {
   "cell_type": "code",
   "execution_count": 418,
   "metadata": {},
   "outputs": [
    {
     "data": {
      "text/plain": [
       "<Linear1D(slope=1., intercept=1.)>"
      ]
     },
     "execution_count": 418,
     "metadata": {},
     "output_type": "execute_result"
    }
   ],
   "source": [
    "model"
   ]
  },
  {
   "cell_type": "code",
   "execution_count": 267,
   "metadata": {},
   "outputs": [
    {
     "ename": "ValueError",
     "evalue": "Polynomial1D gives unsupported >2D derivative matrix for this x/y",
     "output_type": "error",
     "traceback": [
      "\u001b[0;31m---------------------------------------------------------------------------\u001b[0m",
      "\u001b[0;31mValueError\u001b[0m                                Traceback (most recent call last)",
      "\u001b[0;32m<ipython-input-267-c49077c4133c>\u001b[0m in \u001b[0;36m<module>\u001b[0;34m\u001b[0m\n\u001b[1;32m      6\u001b[0m \u001b[0;31m#fitter=fitting.SLSQPLSQFitter()\u001b[0m\u001b[0;34m\u001b[0m\u001b[0;34m\u001b[0m\u001b[0;34m\u001b[0m\u001b[0m\n\u001b[1;32m      7\u001b[0m \u001b[0mfitter\u001b[0m\u001b[0;34m=\u001b[0m\u001b[0mfitting\u001b[0m\u001b[0;34m.\u001b[0m\u001b[0mLinearLSQFitter\u001b[0m\u001b[0;34m(\u001b[0m\u001b[0;34m)\u001b[0m\u001b[0;34m\u001b[0m\u001b[0;34m\u001b[0m\u001b[0m\n\u001b[0;32m----> 8\u001b[0;31m \u001b[0mfit\u001b[0m\u001b[0;34m=\u001b[0m\u001b[0mfitter\u001b[0m\u001b[0;34m(\u001b[0m\u001b[0mmodel\u001b[0m\u001b[0;34m,\u001b[0m \u001b[0mx\u001b[0m\u001b[0;34m[\u001b[0m\u001b[0mbootinds\u001b[0m\u001b[0;34m]\u001b[0m\u001b[0;34m,\u001b[0m\u001b[0my\u001b[0m\u001b[0;34m[\u001b[0m\u001b[0mbootinds\u001b[0m\u001b[0;34m]\u001b[0m\u001b[0;34m)\u001b[0m\u001b[0;31m#,\u001b[0m\u001b[0;34m\u001b[0m\u001b[0;34m\u001b[0m\u001b[0m\n\u001b[0m\u001b[1;32m      9\u001b[0m            \u001b[0;31m#weights=(1.0/yerr[bootinds].reshape(len(x),n))**2)\u001b[0m\u001b[0;34m\u001b[0m\u001b[0;34m\u001b[0m\u001b[0;34m\u001b[0m\u001b[0m\n\u001b[1;32m     10\u001b[0m \u001b[0;31m#fitter = fitting.FittingWithOutlierRemoval(fitting.LinearLSQFitter(), sigma_clip, sigma=3.0)\u001b[0m\u001b[0;34m\u001b[0m\u001b[0;34m\u001b[0m\u001b[0;34m\u001b[0m\u001b[0m\n",
      "\u001b[0;32m/opt/anaconda3/envs/flows/lib/python3.7/site-packages/astropy/modeling/fitting.py\u001b[0m in \u001b[0;36mwrapper\u001b[0;34m(self, model, x, y, z, **kwargs)\u001b[0m\n\u001b[1;32m    175\u001b[0m         \u001b[0;32melse\u001b[0m\u001b[0;34m:\u001b[0m\u001b[0;34m\u001b[0m\u001b[0;34m\u001b[0m\u001b[0m\n\u001b[1;32m    176\u001b[0m \u001b[0;34m\u001b[0m\u001b[0m\n\u001b[0;32m--> 177\u001b[0;31m             \u001b[0;32mreturn\u001b[0m \u001b[0mfunc\u001b[0m\u001b[0;34m(\u001b[0m\u001b[0mself\u001b[0m\u001b[0;34m,\u001b[0m \u001b[0mmodel\u001b[0m\u001b[0;34m,\u001b[0m \u001b[0mx\u001b[0m\u001b[0;34m,\u001b[0m \u001b[0my\u001b[0m\u001b[0;34m,\u001b[0m \u001b[0mz\u001b[0m\u001b[0;34m=\u001b[0m\u001b[0mz\u001b[0m\u001b[0;34m,\u001b[0m \u001b[0;34m**\u001b[0m\u001b[0mkwargs\u001b[0m\u001b[0;34m)\u001b[0m\u001b[0;34m\u001b[0m\u001b[0;34m\u001b[0m\u001b[0m\n\u001b[0m\u001b[1;32m    178\u001b[0m \u001b[0;34m\u001b[0m\u001b[0m\n\u001b[1;32m    179\u001b[0m     \u001b[0;32mreturn\u001b[0m \u001b[0mwrapper\u001b[0m\u001b[0;34m\u001b[0m\u001b[0;34m\u001b[0m\u001b[0m\n",
      "\u001b[0;32m/opt/anaconda3/envs/flows/lib/python3.7/site-packages/astropy/modeling/fitting.py\u001b[0m in \u001b[0;36m__call__\u001b[0;34m(self, model, x, y, z, weights, rcond)\u001b[0m\n\u001b[1;32m    451\u001b[0m         \u001b[0;32mif\u001b[0m \u001b[0mlhs\u001b[0m\u001b[0;34m.\u001b[0m\u001b[0mndim\u001b[0m \u001b[0;34m>\u001b[0m \u001b[0;36m2\u001b[0m\u001b[0;34m:\u001b[0m\u001b[0;34m\u001b[0m\u001b[0;34m\u001b[0m\u001b[0m\n\u001b[1;32m    452\u001b[0m             raise ValueError('{0} gives unsupported >2D derivative matrix for '\n\u001b[0;32m--> 453\u001b[0;31m                              'this x/y'.format(type(model_copy).__name__))\n\u001b[0m\u001b[1;32m    454\u001b[0m \u001b[0;34m\u001b[0m\u001b[0m\n\u001b[1;32m    455\u001b[0m         \u001b[0;31m# Subtract any terms fixed by the user from (a copy of) the RHS, in\u001b[0m\u001b[0;34m\u001b[0m\u001b[0;34m\u001b[0m\u001b[0;34m\u001b[0m\u001b[0m\n",
      "\u001b[0;31mValueError\u001b[0m: Polynomial1D gives unsupported >2D derivative matrix for this x/y"
     ]
    }
   ],
   "source": [
    "n = 3\n",
    "bootstraps=bootstrap(AT['ind'],bootnum=n)\n",
    "bootstraps.sort()\n",
    "bootinds=bootstraps.astype(int)\n",
    "model=models.Polynomial1D(1,c1=np.ones(n),fixed={'c1':True},n_models=n)\n",
    "#fitter=fitting.SLSQPLSQFitter()\n",
    "fitter=fitting.LinearLSQFitter()\n",
    "fit=fitter(model,x[bootinds].T,y[bootinds])#,\n",
    "           #weights=(1.0/yerr[bootinds].reshape(len(x),n))**2)\n",
    "#fitter = fitting.FittingWithOutlierRemoval(fitting.LinearLSQFitter(), sigma_clip, sigma=3.0)\n",
    "#best_fit, sigma_clipped = fitter(model, x[bootinds], y[bootinds], weights=(1.0/yerr[bootinds])**2)\n"
   ]
  },
  {
   "cell_type": "code",
   "execution_count": 279,
   "metadata": {},
   "outputs": [
    {
     "data": {
      "text/plain": [
       "array([[[1., 2., 2., 3., 4.],\n",
       "        [1., 2., 4., 5., 5.],\n",
       "        [1., 1., 2., 3., 4.]]])"
      ]
     },
     "execution_count": 279,
     "metadata": {},
     "output_type": "execute_result"
    }
   ],
   "source": [
    "x[bootinds][np.newaxis, :]"
   ]
  },
  {
   "cell_type": "code",
   "execution_count": 290,
   "metadata": {},
   "outputs": [
    {
     "data": {
      "text/plain": [
       "array([1.1488364 , 2.36869844, 2.36869844, 3.2870604 , 4.3093803 ])"
      ]
     },
     "execution_count": 290,
     "metadata": {},
     "output_type": "execute_result"
    }
   ],
   "source": [
    "y[bootinds][0]"
   ]
  },
  {
   "cell_type": "code",
   "execution_count": 300,
   "metadata": {},
   "outputs": [
    {
     "ename": "InputParameterError",
     "evalue": "All parameter values must be arrays of dimension at least 2 for model_set_axis=1 (the value given for 'slope' is only 1-dimensional)",
     "output_type": "error",
     "traceback": [
      "\u001b[0;31m---------------------------------------------------------------------------\u001b[0m",
      "\u001b[0;31mInputParameterError\u001b[0m                       Traceback (most recent call last)",
      "\u001b[0;32m<ipython-input-300-7e03f8333f51>\u001b[0m in \u001b[0;36m<module>\u001b[0;34m\u001b[0m\n\u001b[0;32m----> 1\u001b[0;31m \u001b[0mline1d\u001b[0m\u001b[0;34m=\u001b[0m\u001b[0mmodels\u001b[0m\u001b[0;34m.\u001b[0m\u001b[0mLinear1D\u001b[0m\u001b[0;34m(\u001b[0m\u001b[0mslope\u001b[0m\u001b[0;34m=\u001b[0m\u001b[0mnp\u001b[0m\u001b[0;34m.\u001b[0m\u001b[0mones\u001b[0m\u001b[0;34m(\u001b[0m\u001b[0mn\u001b[0m\u001b[0;34m)\u001b[0m\u001b[0;34m,\u001b[0m\u001b[0mintercept\u001b[0m\u001b[0;34m=\u001b[0m\u001b[0mnp\u001b[0m\u001b[0;34m.\u001b[0m\u001b[0mzeros\u001b[0m\u001b[0;34m(\u001b[0m\u001b[0mn\u001b[0m\u001b[0;34m)\u001b[0m\u001b[0;34m,\u001b[0m\u001b[0mfixed\u001b[0m\u001b[0;34m=\u001b[0m\u001b[0;34m{\u001b[0m\u001b[0;34m'slope'\u001b[0m\u001b[0;34m:\u001b[0m\u001b[0;32mTrue\u001b[0m\u001b[0;34m}\u001b[0m\u001b[0;34m,\u001b[0m\u001b[0mmodel_set_axis\u001b[0m\u001b[0;34m=\u001b[0m\u001b[0;36m1\u001b[0m\u001b[0;34m)\u001b[0m\u001b[0;34m\u001b[0m\u001b[0;34m\u001b[0m\u001b[0m\n\u001b[0m\u001b[1;32m      2\u001b[0m \u001b[0mfitter\u001b[0m\u001b[0;34m=\u001b[0m\u001b[0mfitting\u001b[0m\u001b[0;34m.\u001b[0m\u001b[0mLinearLSQFitter\u001b[0m\u001b[0;34m(\u001b[0m\u001b[0;34m)\u001b[0m\u001b[0;34m\u001b[0m\u001b[0;34m\u001b[0m\u001b[0m\n\u001b[1;32m      3\u001b[0m \u001b[0mmodel\u001b[0m \u001b[0;34m=\u001b[0m \u001b[0mfitter\u001b[0m\u001b[0;34m(\u001b[0m\u001b[0mmodel\u001b[0m\u001b[0;34m=\u001b[0m\u001b[0mline1d\u001b[0m\u001b[0;34m,\u001b[0m\u001b[0mx\u001b[0m\u001b[0;34m=\u001b[0m\u001b[0mx\u001b[0m\u001b[0;34m[\u001b[0m\u001b[0mbootinds\u001b[0m\u001b[0;34m]\u001b[0m\u001b[0;34m,\u001b[0m\u001b[0my\u001b[0m\u001b[0;34m=\u001b[0m\u001b[0my\u001b[0m\u001b[0;34m[\u001b[0m\u001b[0mbootinds\u001b[0m\u001b[0;34m]\u001b[0m\u001b[0;34m)\u001b[0m\u001b[0;34m\u001b[0m\u001b[0;34m\u001b[0m\u001b[0m\n",
      "\u001b[0;32m/opt/anaconda3/envs/flows/lib/python3.7/site-packages/astropy/modeling/core.py\u001b[0m in \u001b[0;36m__init__\u001b[0;34m(self, slope, intercept, **kwargs)\u001b[0m\n\u001b[1;32m    412\u001b[0m \u001b[0;34m\u001b[0m\u001b[0m\n\u001b[1;32m    413\u001b[0m             new_init = make_function_with_signature(\n\u001b[0;32m--> 414\u001b[0;31m                     __init__, args, kwargs, varkwargs='kwargs')\n\u001b[0m\u001b[1;32m    415\u001b[0m             \u001b[0mupdate_wrapper\u001b[0m\u001b[0;34m(\u001b[0m\u001b[0mnew_init\u001b[0m\u001b[0;34m,\u001b[0m \u001b[0mcls\u001b[0m\u001b[0;34m)\u001b[0m\u001b[0;34m\u001b[0m\u001b[0;34m\u001b[0m\u001b[0m\n\u001b[1;32m    416\u001b[0m             \u001b[0mcls\u001b[0m\u001b[0;34m.\u001b[0m\u001b[0m__init__\u001b[0m \u001b[0;34m=\u001b[0m \u001b[0mnew_init\u001b[0m\u001b[0;34m\u001b[0m\u001b[0;34m\u001b[0m\u001b[0m\n",
      "\u001b[0;32m/opt/anaconda3/envs/flows/lib/python3.7/site-packages/astropy/modeling/core.py\u001b[0m in \u001b[0;36m__init__\u001b[0;34m(self, *params, **kwargs)\u001b[0m\n\u001b[1;32m    409\u001b[0m \u001b[0;34m\u001b[0m\u001b[0m\n\u001b[1;32m    410\u001b[0m             \u001b[0;32mdef\u001b[0m \u001b[0m__init__\u001b[0m\u001b[0;34m(\u001b[0m\u001b[0mself\u001b[0m\u001b[0;34m,\u001b[0m \u001b[0;34m*\u001b[0m\u001b[0mparams\u001b[0m\u001b[0;34m,\u001b[0m \u001b[0;34m**\u001b[0m\u001b[0mkwargs\u001b[0m\u001b[0;34m)\u001b[0m\u001b[0;34m:\u001b[0m\u001b[0;34m\u001b[0m\u001b[0;34m\u001b[0m\u001b[0m\n\u001b[0;32m--> 411\u001b[0;31m                 \u001b[0;32mreturn\u001b[0m \u001b[0msuper\u001b[0m\u001b[0;34m(\u001b[0m\u001b[0mcls\u001b[0m\u001b[0;34m,\u001b[0m \u001b[0mself\u001b[0m\u001b[0;34m)\u001b[0m\u001b[0;34m.\u001b[0m\u001b[0m__init__\u001b[0m\u001b[0;34m(\u001b[0m\u001b[0;34m*\u001b[0m\u001b[0mparams\u001b[0m\u001b[0;34m,\u001b[0m \u001b[0;34m**\u001b[0m\u001b[0mkwargs\u001b[0m\u001b[0;34m)\u001b[0m\u001b[0;34m\u001b[0m\u001b[0;34m\u001b[0m\u001b[0m\n\u001b[0m\u001b[1;32m    412\u001b[0m \u001b[0;34m\u001b[0m\u001b[0m\n\u001b[1;32m    413\u001b[0m             new_init = make_function_with_signature(\n",
      "\u001b[0;32m/opt/anaconda3/envs/flows/lib/python3.7/site-packages/astropy/modeling/core.py\u001b[0m in \u001b[0;36m__init__\u001b[0;34m(self, meta, name, *args, **kwargs)\u001b[0m\n\u001b[1;32m    683\u001b[0m         \u001b[0;31m# Parameter values must be passed in as keyword arguments in order to\u001b[0m\u001b[0;34m\u001b[0m\u001b[0;34m\u001b[0m\u001b[0;34m\u001b[0m\u001b[0m\n\u001b[1;32m    684\u001b[0m         \u001b[0;31m# distinguish them\u001b[0m\u001b[0;34m\u001b[0m\u001b[0;34m\u001b[0m\u001b[0;34m\u001b[0m\u001b[0m\n\u001b[0;32m--> 685\u001b[0;31m         \u001b[0mself\u001b[0m\u001b[0;34m.\u001b[0m\u001b[0m_initialize_parameters\u001b[0m\u001b[0;34m(\u001b[0m\u001b[0margs\u001b[0m\u001b[0;34m,\u001b[0m \u001b[0mkwargs\u001b[0m\u001b[0;34m)\u001b[0m\u001b[0;34m\u001b[0m\u001b[0;34m\u001b[0m\u001b[0m\n\u001b[0m\u001b[1;32m    686\u001b[0m         \u001b[0mself\u001b[0m\u001b[0;34m.\u001b[0m\u001b[0m_initialize_unit_support\u001b[0m\u001b[0;34m(\u001b[0m\u001b[0;34m)\u001b[0m\u001b[0;34m\u001b[0m\u001b[0;34m\u001b[0m\u001b[0m\n\u001b[1;32m    687\u001b[0m \u001b[0;34m\u001b[0m\u001b[0m\n",
      "\u001b[0;32m/opt/anaconda3/envs/flows/lib/python3.7/site-packages/astropy/modeling/core.py\u001b[0m in \u001b[0;36m_initialize_parameters\u001b[0;34m(self, args, kwargs)\u001b[0m\n\u001b[1;32m   1823\u001b[0m                         \u001b[0;34m\"at least {0} for model_set_axis={1} (the value \"\u001b[0m\u001b[0;34m\u001b[0m\u001b[0;34m\u001b[0m\u001b[0m\n\u001b[1;32m   1824\u001b[0m                         \"given for {2!r} is only {3}-dimensional)\".format(\n\u001b[0;32m-> 1825\u001b[0;31m                             min_ndim, model_set_axis, name, param_ndim))\n\u001b[0m\u001b[1;32m   1826\u001b[0m \u001b[0;34m\u001b[0m\u001b[0m\n\u001b[1;32m   1827\u001b[0m                 \u001b[0mmax_ndim\u001b[0m \u001b[0;34m=\u001b[0m \u001b[0mmax\u001b[0m\u001b[0;34m(\u001b[0m\u001b[0mmax_ndim\u001b[0m\u001b[0;34m,\u001b[0m \u001b[0mparam_ndim\u001b[0m\u001b[0;34m)\u001b[0m\u001b[0;34m\u001b[0m\u001b[0;34m\u001b[0m\u001b[0m\n",
      "\u001b[0;31mInputParameterError\u001b[0m: All parameter values must be arrays of dimension at least 2 for model_set_axis=1 (the value given for 'slope' is only 1-dimensional)"
     ]
    }
   ],
   "source": [
    "line1d=models.Linear1D(slope=np.ones(n),intercept=np.zeros(n),fixed={'slope':True},model_set_axis=1)\n",
    "fitter=fitting.LinearLSQFitter()\n",
    "model = fitter(model=line1d,x=x[bootinds],y=y[bootinds])"
   ]
  },
  {
   "cell_type": "code",
   "execution_count": 269,
   "metadata": {},
   "outputs": [
    {
     "data": {
      "text/plain": [
       "<Linear1D(slope=[1., 1., 1.], intercept=[0., 0., 0.])>"
      ]
     },
     "execution_count": 269,
     "metadata": {},
     "output_type": "execute_result"
    }
   ],
   "source": [
    "line1d"
   ]
  },
  {
   "cell_type": "code",
   "execution_count": 255,
   "metadata": {},
   "outputs": [
    {
     "data": {
      "text/plain": [
       "array([2., 4., 1.])"
      ]
     },
     "execution_count": 255,
     "metadata": {},
     "output_type": "execute_result"
    }
   ],
   "source": [
    "fit.c0.value"
   ]
  },
  {
   "cell_type": "code",
   "execution_count": 234,
   "metadata": {},
   "outputs": [
    {
     "data": {
      "text/plain": [
       "array([2., 5., 3.])"
      ]
     },
     "execution_count": 234,
     "metadata": {},
     "output_type": "execute_result"
    }
   ],
   "source": [
    "fit(np.arange(3))"
   ]
  },
  {
   "cell_type": "code",
   "execution_count": 230,
   "metadata": {},
   "outputs": [
    {
     "data": {
      "text/plain": [
       "array([[2., 3., 4.],\n",
       "       [4., 5., 6.],\n",
       "       [1., 2., 3.]])"
      ]
     },
     "execution_count": 230,
     "metadata": {},
     "output_type": "execute_result"
    }
   ],
   "source": [
    "Y=fit(np.arange(3), model_set_axis=False)"
   ]
  },
  {
   "cell_type": "code",
   "execution_count": 224,
   "metadata": {},
   "outputs": [
    {
     "data": {
      "text/plain": [
       "[<matplotlib.lines.Line2D at 0xa272eb850>,\n",
       " <matplotlib.lines.Line2D at 0xa270e2290>,\n",
       " <matplotlib.lines.Line2D at 0xa270e2190>,\n",
       " <matplotlib.lines.Line2D at 0xa270e20d0>,\n",
       " <matplotlib.lines.Line2D at 0xa270e2c90>]"
      ]
     },
     "execution_count": 224,
     "metadata": {},
     "output_type": "execute_result"
    },
    {
     "data": {
      "image/png": "[encoded data removed]",
      "text/plain": [
       "<Figure size 432x288 with 1 Axes>"
      ]
     },
     "metadata": {
      "needs_background": "light"
     },
     "output_type": "display_data"
    }
   ],
   "source": [
    "plt.plot(x[bootinds],y[bootinds],marker='o',linestyle='None')\n",
    "plt.plot()"
   ]
  },
  {
   "cell_type": "code",
   "execution_count": 218,
   "metadata": {},
   "outputs": [
    {
     "data": {
      "text/plain": [
       "(3, 5, 2)"
      ]
     },
     "execution_count": 218,
     "metadata": {},
     "output_type": "execute_result"
    }
   ],
   "source": [
    "np.dstack((x[bootinds],y[bootinds])).shape"
   ]
  },
  {
   "cell_type": "code",
   "execution_count": 147,
   "metadata": {},
   "outputs": [
    {
     "data": {
      "text/plain": [
       "array([[1., 2., 3.],\n",
       "       [5., 5., 1.],\n",
       "       [3., 3., 4.],\n",
       "       [4., 2., 2.],\n",
       "       [2., 3., 5.]])"
      ]
     },
     "execution_count": 147,
     "metadata": {},
     "output_type": "execute_result"
    }
   ],
   "source": [
    "x[bootinds].reshape(5,3)"
   ]
  },
  {
   "cell_type": "code",
   "execution_count": 117,
   "metadata": {},
   "outputs": [],
   "source": [
    "fit=fitter(model,x[bootinds], y[bootinds],weights=(1.0/yerr[bootinds])**2)\n",
    "\n"
   ]
  },
  {
   "cell_type": "code",
   "execution_count": 102,
   "metadata": {},
   "outputs": [],
   "source": [
    "# Fit linear function with fixed slope, using sigma-clipping:\n",
    "model = models.Linear1D(slope=1, fixed={'slope': True})\n",
    "fitter = fitting.FittingWithOutlierRemoval(fitting.LinearLSQFitter(), sigma_clip, sigma=3.0)\n",
    "\n",
    "best_fit, sigma_clipped = fitter(model, x[bootinds[0]], y[bootinds[0]], weights=(1.0/yerr[bootinds[0]])**2)\n",
    "best_fit.intercept.value"
   ]
  },
  {
   "cell_type": "code",
   "execution_count": 18,
   "metadata": {},
   "outputs": [
    {
     "data": {
      "text/plain": [
       "<ErrorbarContainer object of 3 artists>"
      ]
     },
     "execution_count": 18,
     "metadata": {},
     "output_type": "execute_result"
    },
    {
     "data": {
      "image/png": "[encoded data removed]",
      "text/plain": [
       "<Figure size 432x288 with 1 Axes>"
      ]
     },
     "metadata": {
      "needs_background": "light"
     },
     "output_type": "display_data"
    }
   ],
   "source": [
    "import matplotlib.pyplot as plt\n",
    "plt.plot(x,best_fit(x))\n",
    "plt.errorbar(x,y,yerr,linestyle='None',marker='s')"
   ]
  },
  {
   "cell_type": "code",
   "execution_count": null,
   "metadata": {},
   "outputs": [],
   "source": []
  },
  {
   "cell_type": "code",
   "execution_count": 371,
   "metadata": {},
   "outputs": [],
   "source": [
    "p = models.Polynomial1D(1, n_models=2, model_set_axis=0)\n",
    "\n",
    "x = np.arange(0,4)\n",
    "\n",
    "# Generate data for fitting 2 models and re-stack them along the last axis:\n",
    "y = np.array([2*x+1, x+4])\n",
    "y = np.moveaxis(y, 0, -1)\n",
    "\n"
   ]
  },
  {
   "cell_type": "code",
   "execution_count": 372,
   "metadata": {},
   "outputs": [
    {
     "data": {
      "text/plain": [
       "(array([0, 1, 2, 3]),\n",
       " array([0, 1, 2, 3]),\n",
       " array([[0, 1, 2, 3],\n",
       "        [0, 1, 2, 3]]))"
      ]
     },
     "execution_count": 372,
     "metadata": {},
     "output_type": "execute_result"
    }
   ],
   "source": [
    "x1=np.arange(0,4)\n",
    "x2=np.arange(0,4)\n",
    "x3=np.vstack((x1,x2))\n",
    "x1,x2,x3"
   ]
  },
  {
   "cell_type": "code",
   "execution_count": 382,
   "metadata": {},
   "outputs": [
    {
     "ename": "ValueError",
     "evalue": "Polynomial1D gives unsupported >2D derivative matrix for this x/y",
     "output_type": "error",
     "traceback": [
      "\u001b[0;31m---------------------------------------------------------------------------\u001b[0m",
      "\u001b[0;31mValueError\u001b[0m                                Traceback (most recent call last)",
      "\u001b[0;32m<ipython-input-382-14850351b045>\u001b[0m in \u001b[0;36m<module>\u001b[0;34m\u001b[0m\n\u001b[1;32m      1\u001b[0m \u001b[0mf\u001b[0m \u001b[0;34m=\u001b[0m \u001b[0mfitting\u001b[0m\u001b[0;34m.\u001b[0m\u001b[0mLinearLSQFitter\u001b[0m\u001b[0;34m(\u001b[0m\u001b[0;34m)\u001b[0m\u001b[0;34m\u001b[0m\u001b[0;34m\u001b[0m\u001b[0m\n\u001b[0;32m----> 2\u001b[0;31m \u001b[0mfit\u001b[0m \u001b[0;34m=\u001b[0m \u001b[0mf\u001b[0m\u001b[0;34m(\u001b[0m\u001b[0mp\u001b[0m\u001b[0;34m,\u001b[0m \u001b[0mx3\u001b[0m\u001b[0;34m,\u001b[0m \u001b[0my\u001b[0m\u001b[0;34m.\u001b[0m\u001b[0mT\u001b[0m\u001b[0;34m)\u001b[0m\u001b[0;34m\u001b[0m\u001b[0;34m\u001b[0m\u001b[0m\n\u001b[0m\u001b[1;32m      3\u001b[0m \u001b[0;31m#print(fit.parameters)\u001b[0m\u001b[0;34m\u001b[0m\u001b[0;34m\u001b[0m\u001b[0;34m\u001b[0m\u001b[0m\n",
      "\u001b[0;32m/opt/anaconda3/envs/flows/lib/python3.7/site-packages/astropy/modeling/fitting.py\u001b[0m in \u001b[0;36mwrapper\u001b[0;34m(self, model, x, y, z, **kwargs)\u001b[0m\n\u001b[1;32m    175\u001b[0m         \u001b[0;32melse\u001b[0m\u001b[0;34m:\u001b[0m\u001b[0;34m\u001b[0m\u001b[0;34m\u001b[0m\u001b[0m\n\u001b[1;32m    176\u001b[0m \u001b[0;34m\u001b[0m\u001b[0m\n\u001b[0;32m--> 177\u001b[0;31m             \u001b[0;32mreturn\u001b[0m \u001b[0mfunc\u001b[0m\u001b[0;34m(\u001b[0m\u001b[0mself\u001b[0m\u001b[0;34m,\u001b[0m \u001b[0mmodel\u001b[0m\u001b[0;34m,\u001b[0m \u001b[0mx\u001b[0m\u001b[0;34m,\u001b[0m \u001b[0my\u001b[0m\u001b[0;34m,\u001b[0m \u001b[0mz\u001b[0m\u001b[0;34m=\u001b[0m\u001b[0mz\u001b[0m\u001b[0;34m,\u001b[0m \u001b[0;34m**\u001b[0m\u001b[0mkwargs\u001b[0m\u001b[0;34m)\u001b[0m\u001b[0;34m\u001b[0m\u001b[0;34m\u001b[0m\u001b[0m\n\u001b[0m\u001b[1;32m    178\u001b[0m \u001b[0;34m\u001b[0m\u001b[0m\n\u001b[1;32m    179\u001b[0m     \u001b[0;32mreturn\u001b[0m \u001b[0mwrapper\u001b[0m\u001b[0;34m\u001b[0m\u001b[0;34m\u001b[0m\u001b[0m\n",
      "\u001b[0;32m/opt/anaconda3/envs/flows/lib/python3.7/site-packages/astropy/modeling/fitting.py\u001b[0m in \u001b[0;36m__call__\u001b[0;34m(self, model, x, y, z, weights, rcond)\u001b[0m\n\u001b[1;32m    451\u001b[0m         \u001b[0;32mif\u001b[0m \u001b[0mlhs\u001b[0m\u001b[0;34m.\u001b[0m\u001b[0mndim\u001b[0m \u001b[0;34m>\u001b[0m \u001b[0;36m2\u001b[0m\u001b[0;34m:\u001b[0m\u001b[0;34m\u001b[0m\u001b[0;34m\u001b[0m\u001b[0m\n\u001b[1;32m    452\u001b[0m             raise ValueError('{0} gives unsupported >2D derivative matrix for '\n\u001b[0;32m--> 453\u001b[0;31m                              'this x/y'.format(type(model_copy).__name__))\n\u001b[0m\u001b[1;32m    454\u001b[0m \u001b[0;34m\u001b[0m\u001b[0m\n\u001b[1;32m    455\u001b[0m         \u001b[0;31m# Subtract any terms fixed by the user from (a copy of) the RHS, in\u001b[0m\u001b[0;34m\u001b[0m\u001b[0;34m\u001b[0m\u001b[0;34m\u001b[0m\u001b[0m\n",
      "\u001b[0;31mValueError\u001b[0m: Polynomial1D gives unsupported >2D derivative matrix for this x/y"
     ]
    }
   ],
   "source": [
    "f = fitting.LinearLSQFitter()\n",
    "fit = f(p, x3, y.T)\n",
    "#print(fit.parameters)"
   ]
  },
  {
   "cell_type": "code",
   "execution_count": 356,
   "metadata": {},
   "outputs": [
    {
     "data": {
      "text/plain": [
       "<Polynomial1D(1, c0=[[1., 4.]], c1=[[2., 1.]], n_models=2)>"
      ]
     },
     "execution_count": 356,
     "metadata": {},
     "output_type": "execute_result"
    }
   ],
   "source": [
    "fit"
   ]
  },
  {
   "cell_type": "code",
   "execution_count": null,
   "metadata": {},
   "outputs": [],
   "source": []
  }
 ],
 "metadata": {
  "kernelspec": {
   "display_name": "Python 3",
   "language": "python",
   "name": "python3"
  },
  "language_info": {
   "codemirror_mode": {
    "name": "ipython",
    "version": 3
   },
   "file_extension": ".py",
   "mimetype": "text/x-python",
   "name": "python",
   "nbconvert_exporter": "python",
   "pygments_lexer": "ipython3",
   "version": "3.7.4"
  }
 },
 "nbformat": 4,
 "nbformat_minor": 4
}
