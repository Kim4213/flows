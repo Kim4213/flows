{
 "cells": [
  {
   "cell_type": "code",
   "execution_count": 1,
   "metadata": {},
   "outputs": [
    {
     "name": "stderr",
     "output_type": "stream",
     "text": [
      "WARNING: AstropyDeprecationWarning: Composition of model classes will be removed in 4.0 (but composition of model instances is not affected) [astropy.modeling.core]\n",
      "In /opt/anaconda3/envs/flows/lib/python3.7/site-packages/matplotlib/mpl-data/stylelib/_classic_test.mplstyle: \n",
      "The savefig.frameon rcparam was deprecated in Matplotlib 3.1 and will be removed in 3.3.\n",
      "In /opt/anaconda3/envs/flows/lib/python3.7/site-packages/matplotlib/mpl-data/stylelib/_classic_test.mplstyle: \n",
      "The verbose.level rcparam was deprecated in Matplotlib 3.1 and will be removed in 3.3.\n",
      "In /opt/anaconda3/envs/flows/lib/python3.7/site-packages/matplotlib/mpl-data/stylelib/_classic_test.mplstyle: \n",
      "The verbose.fileo rcparam was deprecated in Matplotlib 3.1 and will be removed in 3.3.\n"
     ]
    }
   ],
   "source": [
    "import argparse\n",
    "import logging\n",
    "import os\n",
    "import gc\n",
    "from flows import api, photometry, load_config\n",
    "#from flows.load_image import load_image\n",
    "\n",
    "# Set logging level:\n",
    "logging_level = logging.INFO\n",
    "#if args.quiet:\n",
    "#    logging_level = logging.WARNING\n",
    "#elif args.debug:\n",
    "#    logging_level = logging.DEBUG\n",
    "\n",
    "# Setup logging:\n",
    "formatter = logging.Formatter('%(asctime)s - %(levelname)s - %(message)s')\n",
    "console = logging.StreamHandler()\n",
    "console.setFormatter(formatter)\n",
    "logger = logging.getLogger('flows')\n",
    "if not logger.hasHandlers():\n",
    "    logger.addHandler(console)\n",
    "logger.setLevel(logging_level)\n",
    "\n"
   ]
  },
  {
   "cell_type": "code",
   "execution_count": 3,
   "metadata": {},
   "outputs": [],
   "source": [
    "#fileid=638\n",
    "config=load_config()\n",
    "#datafile=api.get_datafile(fileid)\n",
    "output_folder_root = config.get('photometry', 'output', fallback='.')\n",
    "target_name = '2019muj'"
   ]
  },
  {
   "cell_type": "code",
   "execution_count": 4,
   "metadata": {},
   "outputs": [],
   "source": [
    "fileid=9999"
   ]
  },
  {
   "cell_type": "code",
   "execution_count": 5,
   "metadata": {},
   "outputs": [],
   "source": [
    "output_folder=os.path.join(output_folder_root, target_name, '%04d' % fileid)\n",
    "os.makedirs(output_folder, exist_ok=True)\n",
    "\n",
    "archive_local = config.get('photometry', 'archive_local', fallback=None)"
   ]
  },
  {
   "cell_type": "code",
   "execution_count": 6,
   "metadata": {},
   "outputs": [],
   "source": [
    "# Also write any logging output to the\n",
    "_filehandler = logging.FileHandler(os.path.join(output_folder, 'photometry.log'), mode='w')\n",
    "_filehandler.setFormatter(formatter)\n",
    "_filehandler.setLevel(logging.INFO)\n",
    "logger.addHandler(_filehandler)\n",
    "\n",
    "#try:\n",
    "#    photfile = photometry(fileid=fileid, output_folder=output_folder)\n",
    "#except (SystemExit, KeyboardInterrupt):\n",
    "#    logger.error(\"Aborted by user or system.\")\n",
    "#    photfile = None\n",
    "#except:\n",
    "#    logger.exception(\"Photometry failed\")\n",
    "#    photfile = None\n",
    "#\n",
    "#logger.removeHandler(_filehandler)\n",
    "#\n",
    "#gc.collect()\n",
    "\n"
   ]
  },
  {
   "cell_type": "code",
   "execution_count": null,
   "metadata": {},
   "outputs": [],
   "source": [
    "target_name = '2019muj'\n",
    "targetid = 9\n",
    "photfilter = 'gp'\n",
    "datafile = {'targetid':targetid,\n",
    "          'target_name':target_name,\n",
    "           'phot_filter':photfilter}"
   ]
  },
  {
   "cell_type": "code",
   "execution_count": 5,
   "metadata": {},
   "outputs": [
    {
     "name": "stderr",
     "output_type": "stream",
     "text": [
      "/opt/anaconda3/envs/flows/lib/python3.7/site-packages/astropy/visualization/stretch.py:287: RuntimeWarning: invalid value encountered in log\n",
      "  np.log(values, out=values)\n",
      "/opt/anaconda3/envs/flows/lib/python3.7/site-packages/astropy/visualization/stretch.py:287: RuntimeWarning: invalid value encountered in log\n",
      "  np.log(values, out=values)\n",
      "2020-06-26 13:55:17,756 - INFO - References:\n",
      "      starid            ra      ...    pixel_column        pixel_row     \n",
      "                       deg      ...                                      \n",
      "------------------ ------------ ... ------------------ ------------------\n",
      "107481912845754726 191.28457586 ...  796.7020617435924 1415.0397975950777\n",
      "107391913152190877 191.31521935 ... 275.52618532290353 102.17430738263704\n",
      "107411912811133651 191.28111312 ...  850.4741087489467  418.7577111065772\n",
      "107401912782199891 191.27821937 ...  898.8988567959891 365.85367023679936\n",
      "107401912890621513  191.2890621 ...  716.0452240750443 249.25823494921025\n",
      "107411912729499005 191.27294953 ...  988.0866959358943  493.1740175133722\n",
      "107421912675303145    191.26753 ... 1079.4798639567182  550.7853234039494\n",
      "107451912902601825    191.29026 ...  699.0557247402373  954.4064768743751\n",
      "107431912569317799 191.25693153 ... 1258.6207153453759  755.3329130334337\n",
      "107421912971816909 191.29718197 ...  581.0955697189232  605.7657859547977\n",
      "2020-06-26 13:55:17,908 - INFO - FWHM: 7.651817\n",
      "2020-06-26 13:55:17,909 - INFO - Number of references before cleaning: 10\n",
      "2020-06-26 13:55:18,332 - INFO - Number of references 1: 10\n"
     ]
    },
    {
     "name": "stdout",
     "output_type": "stream",
     "text": [
      "      starid            ra      ...    pixel_column        pixel_row     \n",
      "                       deg      ...                                      \n",
      "------------------ ------------ ... ------------------ ------------------\n",
      "107481912845754726 191.28457586 ...  796.7020617435924 1415.0397975950777\n",
      "107391913152190877 191.31521935 ... 275.52618532290353 102.17430738263704\n",
      "107411912811133651 191.28111312 ...  850.4741087489467  418.7577111065772\n",
      "107401912782199891 191.27821937 ...  898.8988567959891 365.85367023679936\n",
      "107401912890621513  191.2890621 ...  716.0452240750443 249.25823494921025\n",
      "107411912729499005 191.27294953 ...  988.0866959358943  493.1740175133722\n",
      "107421912675303145    191.26753 ... 1079.4798639567182  550.7853234039494\n",
      "107451912902601825    191.29026 ...  699.0557247402373  954.4064768743751\n",
      "107431912569317799 191.25693153 ... 1258.6207153453759  755.3329130334337\n",
      "107421912971816909 191.29718197 ...  581.0955697189232  605.7657859547977\n",
      " id     xcentroid      ...        flux                mag         \n",
      "--- ------------------ ... ------------------ --------------------\n",
      "  1  275.2816661881598 ...  32.34696512590791   -3.774583850773008\n",
      "  2  715.2083516175995 ... 15.231677117720487   -2.956869312324188\n",
      "  3  897.8048368804607 ... 16.892073313574585  -3.0692073941145632\n",
      "  4  849.5980062844834 ... 16.670505096521282  -3.0548718965869304\n",
      "  5  986.9248118309549 ... 11.801504083534187  -2.6798434024923927\n",
      "  6 1079.4407991476141 ... 1.5239975011472748  -0.4574606372615143\n",
      "  7 1079.0830124132951 ...  1.573330142849294 -0.49204965807364104\n",
      "  8  579.6871730793581 ... 1.6357237326418579  -0.5342748872123512\n",
      " 11 1258.3346287382544 ... 2.4547759486702176  -0.9750296487883948\n",
      " 35  697.6857302268685 ... 1.0756514101941794 -0.07917887730991824\n",
      " 41  795.8309590687531 ...   34.7699423183316  -3.8530099255252965\n"
     ]
    },
    {
     "name": "stderr",
     "output_type": "stream",
     "text": [
      "/opt/anaconda3/envs/flows/lib/python3.7/site-packages/astropy/visualization/stretch.py:287: RuntimeWarning: invalid value encountered in log\n",
      "  np.log(values, out=values)\n",
      "2020-06-26 13:55:18,958 - INFO - Number of stars used for ePSF: 10\n"
     ]
    },
    {
     "name": "stdout",
     "output_type": "stream",
     "text": [
      "INFO: overwriting Masked Objects's current mask with specified mask. [astropy.nddata.nddata]\n",
      "PROGRESS: iteration 7 (of max 500) [0.1 s/iter]\r"
     ]
    },
    {
     "name": "stderr",
     "output_type": "stream",
     "text": [
      "2020-06-26 13:55:20,604 - INFO - Successfully built PSF model\n",
      "2020-06-26 13:55:20,646 - INFO - Final FWHM based on ePSF: 8.193497\n",
      "/opt/anaconda3/envs/flows/lib/python3.7/site-packages/astropy/visualization/stretch.py:287: RuntimeWarning: invalid value encountered in log\n",
      "  np.log(values, out=values)\n",
      "2020-06-26 13:55:20,976 - INFO - Apperature Photometry Success\n",
      "2020-06-26 13:55:22,373 - INFO - PSF Photometry Success\n",
      "2020-06-26 13:55:22,375 - INFO - Science image pixel scale: 0.214075\n",
      "/opt/anaconda3/envs/flows/lib/python3.7/site-packages/astropy/visualization/stretch.py:287: RuntimeWarning: invalid value encountered in log\n",
      "  np.log(values, out=values)\n",
      "2020-06-26 13:55:25,209 - INFO - ------------------------------------------------------\n",
      "2020-06-26 13:55:25,211 - INFO - Success!\n",
      "2020-06-26 13:55:25,211 - INFO - Main target: 18.718906 +/- 0.241090\n",
      "2020-06-26 13:55:25,212 - INFO - Photometry took: 12.121824 seconds\n"
     ]
    },
    {
     "data": {
      "text/plain": [
       "17538"
      ]
     },
     "execution_count": 5,
     "metadata": {},
     "output_type": "execute_result"
    }
   ],
   "source": [
    "fileid=638\n",
    "config=load_config()\n",
    "datafile=api.get_datafile(fileid)\n",
    "output_folder_root = config.get('photometry', 'output', fallback='.')\n",
    "target_name = datafile['target_name']\n",
    "\n",
    "output_folder=os.path.join(output_folder_root, target_name, '%04d' % fileid)\n",
    "os.makedirs(output_folder, exist_ok=True)\n",
    "\n",
    "archive_local = config.get('photometry', 'archive_local', fallback=None)\n",
    "\n",
    "\n",
    "# Also write any logging output to the\n",
    "_filehandler = logging.FileHandler(os.path.join(output_folder, 'photometry.log'), mode='w')\n",
    "_filehandler.setFormatter(formatter)\n",
    "_filehandler.setLevel(logging.INFO)\n",
    "logger.addHandler(_filehandler)\n",
    "\n",
    "try:\n",
    "    photfile = photometry(fileid=fileid, output_folder=output_folder)\n",
    "except (SystemExit, KeyboardInterrupt):\n",
    "    logger.error(\"Aborted by user or system.\")\n",
    "    photfile = None\n",
    "except:\n",
    "    logger.exception(\"Photometry failed\")\n",
    "    photfile = None\n",
    "\n",
    "logger.removeHandler(_filehandler)\n",
    "\n",
    "gc.collect()\n"
   ]
  },
  {
   "cell_type": "code",
   "execution_count": null,
   "metadata": {},
   "outputs": [],
   "source": []
  }
 ],
 "metadata": {
  "kernelspec": {
   "display_name": "Python 3",
   "language": "python",
   "name": "python3"
  },
  "language_info": {
   "codemirror_mode": {
    "name": "ipython",
    "version": 3
   },
   "file_extension": ".py",
   "mimetype": "text/x-python",
   "name": "python",
   "nbconvert_exporter": "python",
   "pygments_lexer": "ipython3",
   "version": "3.7.7"
  }
 },
 "nbformat": 4,
 "nbformat_minor": 4
}
