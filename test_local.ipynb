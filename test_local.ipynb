{
 "cells": [
  {
   "cell_type": "code",
   "execution_count": 1,
   "metadata": {},
   "outputs": [
    {
     "name": "stderr",
     "output_type": "stream",
     "text": [
      "In /opt/anaconda3/envs/flows/lib/python3.7/site-packages/matplotlib/mpl-data/stylelib/_classic_test.mplstyle: \n",
      "The savefig.frameon rcparam was deprecated in Matplotlib 3.1 and will be removed in 3.3.\n",
      "In /opt/anaconda3/envs/flows/lib/python3.7/site-packages/matplotlib/mpl-data/stylelib/_classic_test.mplstyle: \n",
      "The verbose.level rcparam was deprecated in Matplotlib 3.1 and will be removed in 3.3.\n",
      "In /opt/anaconda3/envs/flows/lib/python3.7/site-packages/matplotlib/mpl-data/stylelib/_classic_test.mplstyle: \n",
      "The verbose.fileo rcparam was deprecated in Matplotlib 3.1 and will be removed in 3.3.\n"
     ]
    }
   ],
   "source": [
    "import argparse\n",
    "import logging\n",
    "import os\n",
    "import gc\n",
    "from flows import api, photometry, load_config\n",
    "\n",
    "# Set logging level:\n",
    "logging_level = logging.INFO\n",
    "#if args.quiet:\n",
    "#    logging_level = logging.WARNING\n",
    "#elif args.debug:\n",
    "#    logging_level = logging.DEBUG\n",
    "\n",
    "# Setup logging:\n",
    "formatter = logging.Formatter('%(asctime)s - %(levelname)s - %(message)s')\n",
    "console = logging.StreamHandler()\n",
    "console.setFormatter(formatter)\n",
    "logger = logging.getLogger('flows')\n",
    "if not logger.hasHandlers():\n",
    "    logger.addHandler(console)\n",
    "logger.setLevel(logging_level)\n"
   ]
  },
  {
   "cell_type": "code",
   "execution_count": 2,
   "metadata": {},
   "outputs": [],
   "source": [
    "config=load_config()\n",
    "#datafile=api.get_datafile(fileid)"
   ]
  },
  {
   "cell_type": "code",
   "execution_count": 3,
   "metadata": {},
   "outputs": [],
   "source": [
    "datafiles=api.get_datafiles(2)"
   ]
  },
  {
   "cell_type": "code",
   "execution_count": 5,
   "metadata": {},
   "outputs": [],
   "source": [
    "import glob"
   ]
  },
  {
   "cell_type": "code",
   "execution_count": 14,
   "metadata": {},
   "outputs": [],
   "source": [
    "dfs=glob.glob('/Volumes/ast1d/photometry_workdir/2019yvr/*')"
   ]
  },
  {
   "cell_type": "code",
   "execution_count": 15,
   "metadata": {},
   "outputs": [],
   "source": [
    "dfs=[int(df.split('/')[-1]) for df in dfs]"
   ]
  },
  {
   "cell_type": "code",
   "execution_count": 16,
   "metadata": {},
   "outputs": [],
   "source": [
    "all_dfs=set(datafiles)"
   ]
  },
  {
   "cell_type": "code",
   "execution_count": 17,
   "metadata": {},
   "outputs": [],
   "source": [
    "my_dfs=set(dfs)"
   ]
  },
  {
   "cell_type": "code",
   "execution_count": 18,
   "metadata": {},
   "outputs": [
    {
     "data": {
      "text/plain": [
       "{744, 745, 746, 747, 748, 749, 750, 751, 752, 753, 754, 755}"
      ]
     },
     "execution_count": 18,
     "metadata": {},
     "output_type": "execute_result"
    }
   ],
   "source": [
    "all_dfs-my_dfs"
   ]
  },
  {
   "cell_type": "code",
   "execution_count": 2,
   "metadata": {},
   "outputs": [],
   "source": [
    "fileid=638\n",
    "config=load_config()\n",
    "datafile=api.get_datafile(fileid)\n",
    "output_folder_root = config.get('photometry', 'output', fallback='.')\n",
    "target_name = datafile['target_name']"
   ]
  },
  {
   "cell_type": "code",
   "execution_count": 3,
   "metadata": {},
   "outputs": [],
   "source": [
    "output_folder=os.path.join(output_folder_root, target_name, '%04d' % fileid)\n",
    "os.makedirs(output_folder, exist_ok=True)"
   ]
  },
  {
   "cell_type": "code",
   "execution_count": 4,
   "metadata": {},
   "outputs": [],
   "source": [
    "from flows.load_image import load_image"
   ]
  },
  {
   "cell_type": "code",
   "execution_count": 5,
   "metadata": {},
   "outputs": [],
   "source": [
    "archive_local = config.get('photometry', 'archive_local', fallback=None)"
   ]
  },
  {
   "cell_type": "code",
   "execution_count": 6,
   "metadata": {},
   "outputs": [],
   "source": [
    "img=load_image(os.path.join(archive_local,datafile['path']))\n",
    "impath=os.path.join(archive_local,datafile['path'])"
   ]
  },
  {
   "cell_type": "code",
   "execution_count": 7,
   "metadata": {},
   "outputs": [
    {
     "data": {
      "text/plain": [
       "{'fileid': 638,\n",
       " 'path': '2019yvr/SN2019yvr_g01_NOT_ALFOSC_20200611.fits',\n",
       " 'targetid': 2,\n",
       " 'site': 5,\n",
       " 'filesize': 10719360,\n",
       " 'filehash': '451feb272c9e8d246f56065a0a830e391cbb1f80',\n",
       " 'inserted': datetime.datetime(2020, 6, 19, 7, 34, 49, 763592),\n",
       " 'lastmodified': datetime.datetime(2020, 6, 19, 7, 34, 49, 763592),\n",
       " 'photfilter': 'gp',\n",
       " 'obstime': 59010.9020878588,\n",
       " 'exptime': 140,\n",
       " 'archive_path': '/aadc/flows/archive/',\n",
       " 'target_name': '2019yvr',\n",
       " 'template': {'fileid': 345,\n",
       "  'path': '2019yvr/templates/SN2019yvr_g.fits',\n",
       "  'filehash': '3bcbc82918f78d84d62239a08c44f1e6a655460f',\n",
       "  'filesize': 9457920,\n",
       "  'site': 7},\n",
       " 'diffimg': {'fileid': 730,\n",
       "  'path': '2019yvr/subtracted/SN2019yvr_g01_NOT_ALFOSC_20200611diff.fits',\n",
       "  'filehash': '5223c8b33135665eec836027fa170f68ea60fe38',\n",
       "  'filesize': 21421440}}"
      ]
     },
     "execution_count": 7,
     "metadata": {},
     "output_type": "execute_result"
    }
   ],
   "source": [
    "datafile"
   ]
  },
  {
   "cell_type": "code",
   "execution_count": 8,
   "metadata": {
    "collapsed": false,
    "jupyter": {
     "outputs_hidden": false
    },
    "pycharm": {
     "name": "#%%\n"
    }
   },
   "outputs": [
    {
     "name": "stderr",
     "output_type": "stream",
     "text": [
      "/opt/anaconda3/envs/flows/lib/python3.7/site-packages/astropy/visualization/stretch.py:287: RuntimeWarning: invalid value encountered in log\n",
      "  np.log(values, out=values)\n",
      "/opt/anaconda3/envs/flows/lib/python3.7/site-packages/astropy/visualization/stretch.py:287: RuntimeWarning: invalid value encountered in log\n",
      "  np.log(values, out=values)\n",
      "2020-06-26 13:49:53,751 - INFO - References:\n",
      "      starid            ra      ...    pixel_column        pixel_row     \n",
      "                       deg      ...                                      \n",
      "------------------ ------------ ... ------------------ ------------------\n",
      "107481912845754726 191.28457586 ...  796.7020617435924 1415.0397975950777\n",
      "107391913152190877 191.31521935 ... 275.52618532290353 102.17430738263704\n",
      "107411912811133651 191.28111312 ...  850.4741087489467  418.7577111065772\n",
      "107401912782199891 191.27821937 ...  898.8988567959891 365.85367023679936\n",
      "107401912890621513  191.2890621 ...  716.0452240750443 249.25823494921025\n",
      "107411912729499005 191.27294953 ...  988.0866959358943  493.1740175133722\n",
      "107421912675303145    191.26753 ... 1079.4798639567182  550.7853234039494\n",
      "107451912902601825    191.29026 ...  699.0557247402373  954.4064768743751\n",
      "107431912569317799 191.25693153 ... 1258.6207153453759  755.3329130334337\n",
      "107421912971816909 191.29718197 ...  581.0955697189232  605.7657859547977\n",
      "2020-06-26 13:49:53,879 - INFO - FWHM: 7.651817\n",
      "2020-06-26 13:49:53,879 - INFO - Number of references before cleaning: 10\n",
      "2020-06-26 13:49:54,311 - INFO - Number of references 1: 10\n",
      "/opt/anaconda3/envs/flows/lib/python3.7/site-packages/astropy/visualization/stretch.py:287: RuntimeWarning: invalid value encountered in log\n",
      "  np.log(values, out=values)\n",
      "2020-06-26 13:49:54,962 - INFO - Number of stars used for ePSF: 10\n"
     ]
    },
    {
     "name": "stdout",
     "output_type": "stream",
     "text": [
      "INFO: overwriting Masked Objects's current mask with specified mask. [astropy.nddata.nddata]\n",
      "PROGRESS: iteration 7 (of max 500) [0.1 s/iter]\r"
     ]
    },
    {
     "name": "stderr",
     "output_type": "stream",
     "text": [
      "2020-06-26 13:49:56,582 - INFO - Successfully built PSF model\n",
      "2020-06-26 13:49:56,626 - INFO - Final FWHM based on ePSF: 8.193497\n",
      "/opt/anaconda3/envs/flows/lib/python3.7/site-packages/astropy/visualization/stretch.py:287: RuntimeWarning: invalid value encountered in log\n",
      "  np.log(values, out=values)\n",
      "2020-06-26 13:49:56,978 - INFO - Apperature Photometry Success\n",
      "2020-06-26 13:49:58,312 - INFO - PSF Photometry Success\n",
      "2020-06-26 13:49:58,314 - INFO - Science image pixel scale: 0.214075\n",
      "/opt/anaconda3/envs/flows/lib/python3.7/site-packages/astropy/visualization/stretch.py:287: RuntimeWarning: invalid value encountered in log\n",
      "  np.log(values, out=values)\n",
      "2020-06-26 13:50:01,065 - INFO - ------------------------------------------------------\n",
      "2020-06-26 13:50:01,066 - INFO - Success!\n",
      "2020-06-26 13:50:01,067 - INFO - Main target: 18.718906 +/- 0.241090\n",
      "2020-06-26 13:50:01,068 - INFO - Photometry took: 11.824159 seconds\n"
     ]
    },
    {
     "data": {
      "text/plain": [
       "17538"
      ]
     },
     "execution_count": 8,
     "metadata": {},
     "output_type": "execute_result"
    }
   ],
   "source": [
    "# Also write any logging output to the\n",
    "_filehandler = logging.FileHandler(os.path.join(output_folder, 'photometry.log'), mode='w')\n",
    "_filehandler.setFormatter(formatter)\n",
    "_filehandler.setLevel(logging.INFO)\n",
    "logger.addHandler(_filehandler)\n",
    "\n",
    "try:\n",
    "    photfile = photometry(fileid=fileid, output_folder=output_folder)\n",
    "except (SystemExit, KeyboardInterrupt):\n",
    "    logger.error(\"Aborted by user or system.\")\n",
    "    photfile = None\n",
    "except:\n",
    "    logger.exception(\"Photometry failed\")\n",
    "    photfile = None\n",
    "\n",
    "logger.removeHandler(_filehandler)\n",
    "\n",
    "gc.collect()\n",
    "\n"
   ]
  },
  {
   "cell_type": "code",
   "execution_count": 10,
   "metadata": {},
   "outputs": [
    {
     "data": {
      "text/plain": [
       "(1269.0511, 102.72279)"
      ]
     },
     "execution_count": 10,
     "metadata": {},
     "output_type": "execute_result"
    }
   ],
   "source": [
    "from astropy.stats import sigma_clipped_stats,SigmaClip\n",
    "\n",
    "sigma_clipped_stats(img.image,sigma=3,maxiters=10,mask=img.mask)[1:]"
   ]
  },
  {
   "cell_type": "code",
   "execution_count": 11,
   "metadata": {},
   "outputs": [],
   "source": [
    "from photutils import DAOStarFinder, CircularAperture, CircularAnnulus, aperture_photometry\n",
    "from photutils.psf import EPSFBuilder, EPSFFitter, BasicPSFPhotometry, DAOGroup, extract_stars\n",
    "from photutils import Background2D, SExtractorBackground\n",
    "from photutils.utils import calc_total_error\n",
    "bkg = Background2D(img.clean, (128, 128), filter_size=(5, 5),\n",
    "\t\t#mask=image.mask | (image.clean > background_cutoff),\n",
    "\t\tsigma_clip=SigmaClip(sigma=3.0),\n",
    "\t\tbkg_estimator=SExtractorBackground(),\n",
    "\t\texclude_percentile=50.0\n",
    "\t\t)\n",
    "img.background = bkg.background"
   ]
  },
  {
   "cell_type": "code",
   "execution_count": 12,
   "metadata": {},
   "outputs": [
    {
     "data": {
      "text/plain": [
       "'/Users/emir/Dropbox/FLOWS/flows/archive'"
      ]
     },
     "execution_count": 12,
     "metadata": {},
     "output_type": "execute_result"
    }
   ],
   "source": [
    "archive_local"
   ]
  },
  {
   "cell_type": "code",
   "execution_count": 13,
   "metadata": {},
   "outputs": [],
   "source": [
    "import matplotlib.pyplot as plt\n",
    "\n",
    "%matplotlib qt5"
   ]
  },
  {
   "cell_type": "code",
   "execution_count": 14,
   "metadata": {},
   "outputs": [],
   "source": [
    "cat=api.get_catalog(2)\n"
   ]
  },
  {
   "cell_type": "code",
   "execution_count": 15,
   "metadata": {},
   "outputs": [],
   "source": [
    "import numpy as np\n",
    "references = cat['references']\n",
    "row_col_coords = img.wcs.all_world2pix(np.array([[ref['ra'], ref['decl']] for ref in references]), 0)"
   ]
  },
  {
   "cell_type": "code",
   "execution_count": 16,
   "metadata": {},
   "outputs": [],
   "source": [
    "from astropy.coordinates import SkyCoord\n",
    "import astropy.units as u\n",
    "ns=['target','references','avoid']\n",
    "tar=SkyCoord(cat['target']['ra'],cat['target']['decl'],frame='icrs')\n",
    "refs=SkyCoord(cat[ns[1]]['ra'],cat[ns[1]]['decl'],frame='icrs')\n",
    "\n",
    "\n",
    "\n",
    "seps=tar.separation(refs)"
   ]
  },
  {
   "cell_type": "code",
   "execution_count": 17,
   "metadata": {},
   "outputs": [],
   "source": [
    "target=cat['target'][0]\n",
    "tarxy=img.wcs.all_world2pix([[target['ra'], target['decl']]], 0)[0]"
   ]
  },
  {
   "cell_type": "code",
   "execution_count": 30,
   "metadata": {},
   "outputs": [
    {
     "data": {
      "text/html": [
       "&lt;Column name=&apos;ycentroid&apos; dtype=&apos;float64&apos; length=10&gt;\n",
       "<table>\n",
       "<tr><td>103.05092163435913</td></tr>\n",
       "<tr><td>249.3471196516652</td></tr>\n",
       "<tr><td>365.7103787293392</td></tr>\n",
       "<tr><td>418.48967937617124</td></tr>\n",
       "<tr><td>492.96254180170604</td></tr>\n",
       "<tr><td>549.6537380410668</td></tr>\n",
       "<tr><td>550.6216925496539</td></tr>\n",
       "<tr><td>605.4297017862596</td></tr>\n",
       "<tr><td>754.9533619263821</td></tr>\n",
       "<tr><td>1415.620289279014</td></tr>\n",
       "</table>"
      ],
      "text/plain": [
       "<Column name='ycentroid' dtype='float64' length=10>\n",
       "103.05092163435913\n",
       " 249.3471196516652\n",
       " 365.7103787293392\n",
       "418.48967937617124\n",
       "492.96254180170604\n",
       " 549.6537380410668\n",
       " 550.6216925496539\n",
       " 605.4297017862596\n",
       " 754.9533619263821\n",
       " 1415.620289279014"
      ]
     },
     "execution_count": 30,
     "metadata": {},
     "output_type": "execute_result"
    }
   ],
   "source": [
    "daoclean['ycentroid']"
   ]
  },
  {
   "cell_type": "code",
   "execution_count": 37,
   "metadata": {},
   "outputs": [
    {
     "name": "stderr",
     "output_type": "stream",
     "text": [
      "/opt/anaconda3/envs/flows/lib/python3.7/site-packages/ipykernel_launcher.py:7: MatplotlibDeprecationWarning: Using a string of single character colors as a color sequence is deprecated. Use an explicit list instead.\n",
      "  import sys\n"
     ]
    },
    {
     "data": {
      "text/plain": [
       "(0.0, 1700.0)"
      ]
     },
     "execution_count": 37,
     "metadata": {},
     "output_type": "execute_result"
    }
   ],
   "source": [
    "fig = plt.figure(figsize=(20,20))\n",
    "ax = fig.add_subplot(111, projection=img.wcs)\n",
    "clim = np.percentile(img.clean, (0.1, 99))\n",
    "ax.imshow(img.subclean,origin='lower',clim=clim)\n",
    "ax.scatter(daoclean['xcentroid'],daoclean['ycentroid'],edgecolors='red',lw=1.0)\n",
    "\n",
    "ax.scatter(tarxy[0],tarxy[1],30.0,'',edgecolors='orange',lw=1.0)\n",
    "ax.set_xlim(0,1700)\n",
    "ax.set_ylim(0,1700)\n",
    "#plt.show()"
   ]
  },
  {
   "cell_type": "code",
   "execution_count": 19,
   "metadata": {},
   "outputs": [],
   "source": [
    "from astropy.stats import sigma_clipped_stats\n",
    "\n",
    "img.bkg,img.std=sigma_clipped_stats(img.clean,maxiters=10)[1:]"
   ]
  },
  {
   "cell_type": "code",
   "execution_count": 20,
   "metadata": {},
   "outputs": [],
   "source": [
    "img.subclean=img.clean-img.bkg"
   ]
  },
  {
   "cell_type": "code",
   "execution_count": 22,
   "metadata": {},
   "outputs": [],
   "source": [
    "from photutils import DAOStarFinder\n",
    "sources = DAOStarFinder(fwhm=7.651817, threshold=7.*img.std,exclude_border=True,\n",
    "\t\t\t\t\t\tsharphi=0.8,sigma_radius=1.1,peakmax=img.nonlin).find_stars(img.subclean, mask=img.mask)"
   ]
  },
  {
   "cell_type": "code",
   "execution_count": 168,
   "metadata": {},
   "outputs": [],
   "source": [
    "daofind_tbl = DAOStarFinder(100, fwhm=8.2, roundlo=-0.5, roundhi=0.5).find_stars(img.subclean, mask=img.mask)"
   ]
  },
  {
   "cell_type": "code",
   "execution_count": 165,
   "metadata": {},
   "outputs": [
    {
     "data": {
      "text/html": [
       "<i>Table length=42</i>\n",
       "<table id=\"table44551945424\" class=\"table-striped table-bordered table-condensed\">\n",
       "<thead><tr><th>id</th><th>xcentroid</th><th>ycentroid</th><th>sharpness</th><th>roundness1</th><th>roundness2</th><th>npix</th><th>sky</th><th>peak</th><th>flux</th><th>mag</th></tr></thead>\n",
       "<thead><tr><th>int64</th><th>float64</th><th>float64</th><th>float64</th><th>float64</th><th>float64</th><th>int64</th><th>float64</th><th>float64</th><th>float64</th><th>float64</th></tr></thead>\n",
       "<tr><td>1</td><td>275.2796750469075</td><td>103.05148508561376</td><td>0.2631024326572632</td><td>0.041701211664059344</td><td>0.0565403564169128</td><td>49</td><td>0.0</td><td>25745.458984375</td><td>35.55942526624854</td><td>-3.877386832537205</td></tr>\n",
       "<tr><td>2</td><td>715.2067648939313</td><td>249.3455194676441</td><td>0.2519828165943213</td><td>0.03385069909572219</td><td>0.058390061968960766</td><td>49</td><td>0.0</td><td>12095.0927734375</td><td>17.18015270931321</td><td>-3.08756754957003</td></tr>\n",
       "<tr><td>3</td><td>897.8065439298595</td><td>365.71319139921627</td><td>0.24123578002263743</td><td>0.05747704227360916</td><td>0.042126914288285244</td><td>49</td><td>0.0</td><td>13221.3876953125</td><td>18.743195278746555</td><td>-3.1821090749221486</td></tr>\n",
       "<tr><td>4</td><td>849.6011390738682</td><td>418.48638684838755</td><td>0.2575072063613937</td><td>-0.008536236481393253</td><td>-0.04511649949079648</td><td>49</td><td>0.0</td><td>13248.4921875</td><td>18.4674210428387</td><td>-3.166015627194824</td></tr>\n",
       "<tr><td>5</td><td>986.9252501131926</td><td>492.9633087054695</td><td>0.26310436413828386</td><td>0.040192133070249436</td><td>0.06471379240381905</td><td>49</td><td>0.0</td><td>9402.61328125</td><td>13.073299279141521</td><td>-2.7909630083366976</td></tr>\n",
       "<tr><td>6</td><td>1079.339292649097</td><td>550.7312552170463</td><td>0.23787804509501667</td><td>-0.1771949996612562</td><td>0.15582661328500716</td><td>49</td><td>0.0</td><td>2916.54736328125</td><td>1.708622388134133</td><td>-0.581615231596992</td></tr>\n",
       "<tr><td>7</td><td>579.7356153212081</td><td>605.4194442259293</td><td>0.2771373057601338</td><td>0.1316120265772793</td><td>0.2731933108019872</td><td>49</td><td>0.0</td><td>1285.1817626953125</td><td>1.834055955240816</td><td>-0.6585314535825733</td></tr>\n",
       "<tr><td>8</td><td>836.3188560897919</td><td>751.8160402748026</td><td>0.22693814585262898</td><td>0.15917894463366394</td><td>-0.2895461694978327</td><td>49</td><td>0.0</td><td>1966.9625244140625</td><td>1.038008676674792</td><td>-0.04050245944640144</td></tr>\n",
       "<tr><td>9</td><td>1258.3261097192412</td><td>754.9103927386526</td><td>0.3031230264862332</td><td>0.013027601683135387</td><td>0.051185887480406055</td><td>49</td><td>0.0</td><td>1904.6446533203125</td><td>2.7046272457777842</td><td>-1.0802685467516842</td></tr>\n",
       "<tr><td>10</td><td>857.4139251288042</td><td>763.252862724496</td><td>0.31274745692478373</td><td>0.11230279988629903</td><td>0.1272218033165739</td><td>49</td><td>0.0</td><td>7419.37255859375</td><td>7.944811923753578</td><td>-2.2502090517053195</td></tr>\n",
       "<tr><td>...</td><td>...</td><td>...</td><td>...</td><td>...</td><td>...</td><td>...</td><td>...</td><td>...</td><td>...</td><td>...</td></tr>\n",
       "<tr><td>33</td><td>822.3359112574508</td><td>913.6409996037307</td><td>0.4840491074427261</td><td>0.05516327151942616</td><td>0.17581714121729303</td><td>49</td><td>0.0</td><td>3961.30908203125</td><td>1.4931901353137766</td><td>-0.43528778029722626</td></tr>\n",
       "<tr><td>34</td><td>738.8751191208098</td><td>920.6330346496704</td><td>0.3873993053110753</td><td>0.12379055920827639</td><td>0.5345210021643201</td><td>49</td><td>0.0</td><td>6142.27978515625</td><td>1.77306541431195</td><td>-0.6218118961803233</td></tr>\n",
       "<tr><td>35</td><td>732.4490220103061</td><td>930.0929765287436</td><td>0.32356910443756876</td><td>0.18362511857054137</td><td>-0.5307769016104769</td><td>49</td><td>0.0</td><td>5114.203125</td><td>1.1174706410430308</td><td>-0.1205903046766047</td></tr>\n",
       "<tr><td>36</td><td>720.7054519246697</td><td>934.5108885219836</td><td>0.41650736510883274</td><td>-0.01540393390006143</td><td>0.21225565715690542</td><td>49</td><td>0.0</td><td>5283.68798828125</td><td>1.6081226034425629</td><td>-0.5157978908332818</td></tr>\n",
       "<tr><td>37</td><td>671.9126371364216</td><td>935.7389674419517</td><td>0.2011417995674239</td><td>-0.347360931003514</td><td>0.4400220154523014</td><td>49</td><td>0.0</td><td>1958.9486083984375</td><td>1.0199169126789158</td><td>-0.021411983731201373</td></tr>\n",
       "<tr><td>38</td><td>717.8794753065612</td><td>938.5989553022906</td><td>0.33627045687635926</td><td>0.37676915344979484</td><td>0.31450866010215817</td><td>49</td><td>0.0</td><td>4636.7236328125</td><td>1.2719124971546327</td><td>-0.2611430862407714</td></tr>\n",
       "<tr><td>39</td><td>1481.0134878221909</td><td>980.3223506604829</td><td>0.27516832762537424</td><td>0.14135533684619228</td><td>0.05968331596999605</td><td>49</td><td>0.0</td><td>6781.5751953125</td><td>9.38524663072466</td><td>-2.431114224347441</td></tr>\n",
       "<tr><td>40</td><td>716.6491244596427</td><td>1000.3074176890631</td><td>0.48894944471071333</td><td>-0.18157040398194527</td><td>-0.13160656288591732</td><td>49</td><td>0.0</td><td>4231.115234375</td><td>1.338380806358099</td><td>-0.3164492495172414</td></tr>\n",
       "<tr><td>41</td><td>899.5360684005209</td><td>1055.0285924188106</td><td>0.31647601224941285</td><td>0.06759386735651361</td><td>0.038308239087497836</td><td>49</td><td>0.0</td><td>830.1192626953125</td><td>1.1389043455724013</td><td>-0.14121812509118375</td></tr>\n",
       "<tr><td>42</td><td>795.8324829946997</td><td>1415.6233741672684</td><td>0.25988433129730815</td><td>0.1266799318857474</td><td>0.10096477042386597</td><td>49</td><td>0.0</td><td>28126.40625</td><td>38.6832744165067</td><td>-3.968808071543965</td></tr>\n",
       "</table>"
      ],
      "text/plain": [
       "<Table length=42>\n",
       "  id      xcentroid      ...        flux                 mag         \n",
       "int64      float64       ...      float64              float64       \n",
       "----- ------------------ ... ------------------ ---------------------\n",
       "    1  275.2796750469075 ...  35.55942526624854    -3.877386832537205\n",
       "    2  715.2067648939313 ...  17.18015270931321     -3.08756754957003\n",
       "    3  897.8065439298595 ... 18.743195278746555   -3.1821090749221486\n",
       "    4  849.6011390738682 ...   18.4674210428387    -3.166015627194824\n",
       "    5  986.9252501131926 ... 13.073299279141521   -2.7909630083366976\n",
       "    6  1079.339292649097 ...  1.708622388134133    -0.581615231596992\n",
       "    7  579.7356153212081 ...  1.834055955240816   -0.6585314535825733\n",
       "    8  836.3188560897919 ...  1.038008676674792  -0.04050245944640144\n",
       "    9 1258.3261097192412 ... 2.7046272457777842   -1.0802685467516842\n",
       "   10  857.4139251288042 ...  7.944811923753578   -2.2502090517053195\n",
       "  ...                ... ...                ...                   ...\n",
       "   33  822.3359112574508 ... 1.4931901353137766  -0.43528778029722626\n",
       "   34  738.8751191208098 ...   1.77306541431195   -0.6218118961803233\n",
       "   35  732.4490220103061 ... 1.1174706410430308   -0.1205903046766047\n",
       "   36  720.7054519246697 ... 1.6081226034425629   -0.5157978908332818\n",
       "   37  671.9126371364216 ... 1.0199169126789158 -0.021411983731201373\n",
       "   38  717.8794753065612 ... 1.2719124971546327   -0.2611430862407714\n",
       "   39 1481.0134878221909 ...   9.38524663072466    -2.431114224347441\n",
       "   40  716.6491244596427 ...  1.338380806358099   -0.3164492495172414\n",
       "   41  899.5360684005209 ... 1.1389043455724013  -0.14121812509118375\n",
       "   42  795.8324829946997 ...   38.6832744165067    -3.968808071543965"
      ]
     },
     "execution_count": 165,
     "metadata": {},
     "output_type": "execute_result"
    }
   ],
   "source": [
    "sources"
   ]
  },
  {
   "cell_type": "code",
   "execution_count": 132,
   "metadata": {},
   "outputs": [
    {
     "data": {
      "text/html": [
       "<i>Table length=2651</i>\n",
       "<table id=\"table44287234128\" class=\"table-striped table-bordered table-condensed\">\n",
       "<thead><tr><th>id</th><th>xcentroid</th><th>ycentroid</th><th>sharpness</th><th>roundness1</th><th>roundness2</th><th>npix</th><th>sky</th><th>peak</th><th>flux</th><th>mag</th></tr></thead>\n",
       "<thead><tr><th>int64</th><th>float64</th><th>float64</th><th>float64</th><th>float64</th><th>float64</th><th>int64</th><th>float64</th><th>float64</th><th>float64</th><th>float64</th></tr></thead>\n",
       "<tr><td>1</td><td>696.7584098604169</td><td>-2.1404068775518215</td><td>0.763835886141838</td><td>0.06067006693647624</td><td>0.14123610552802032</td><td>121</td><td>0.0</td><td>43.175048828125</td><td>1.466054422251779</td><td>-0.41537523075074256</td></tr>\n",
       "<tr><td>2</td><td>782.2880094007894</td><td>-2.4488236249025825</td><td>0.3064926491877321</td><td>-0.39284496095233506</td><td>0.4931232775797933</td><td>121</td><td>0.0</td><td>12.45556640625</td><td>1.8916283859990293</td><td>-0.6920895561664707</td></tr>\n",
       "<tr><td>3</td><td>866.1608238400944</td><td>-1.4436874213165278</td><td>0.31945249604911136</td><td>0.17018765775802636</td><td>0.3747934062449425</td><td>121</td><td>0.0</td><td>17.021240234375</td><td>1.7703131682728852</td><td>-0.6201252495517978</td></tr>\n",
       "<tr><td>4</td><td>906.923363129987</td><td>0.3368518365103853</td><td>0.39529152123919425</td><td>-0.10704051586363335</td><td>0.1949346221581538</td><td>121</td><td>0.0</td><td>35.151123046875</td><td>2.2552782022343463</td><td>-0.8830003059372533</td></tr>\n",
       "<tr><td>5</td><td>1325.8370634788394</td><td>-2.6944742719282586</td><td>0.30920665852359097</td><td>-0.20947717371325011</td><td>-0.3138834947536519</td><td>121</td><td>0.0</td><td>-1.940673828125</td><td>1.0098793029895414</td><td>-0.010673679065754161</td></tr>\n",
       "<tr><td>6</td><td>190.44282470951651</td><td>0.06880687846626588</td><td>0.3168060264481986</td><td>0.41521779499678374</td><td>0.2333790808309118</td><td>121</td><td>0.0</td><td>-11.9627685546875</td><td>1.1647616148997304</td><td>-0.16559262471996408</td></tr>\n",
       "<tr><td>7</td><td>1492.4805352053213</td><td>-0.639580099810233</td><td>0.579941246132749</td><td>-0.4560175845446361</td><td>0.01615370776505647</td><td>121</td><td>0.0</td><td>14.5081787109375</td><td>1.2019266437475227</td><td>-0.1996949062969327</td></tr>\n",
       "<tr><td>8</td><td>435.7618011638778</td><td>3.0930881123826497</td><td>0.4150360383229217</td><td>0.0009834939790367128</td><td>0.017055218042553597</td><td>121</td><td>0.0</td><td>18.132080078125</td><td>2.012148480042577</td><td>-0.75915006233635</td></tr>\n",
       "<tr><td>9</td><td>1120.5560407955988</td><td>0.8288624851969528</td><td>0.2944564554861594</td><td>-0.21028345556224476</td><td>0.13269440824817752</td><td>121</td><td>0.0</td><td>8.579345703125</td><td>1.6163929277224207</td><td>-0.5213673539658628</td></tr>\n",
       "<tr><td>10</td><td>506.44319856536976</td><td>3.3933457120562807</td><td>0.5731577787624222</td><td>-0.2723056926754385</td><td>0.1922175766690575</td><td>121</td><td>0.0</td><td>49.485595703125</td><td>2.4460542647272088</td><td>-0.9711652186376005</td></tr>\n",
       "<tr><td>...</td><td>...</td><td>...</td><td>...</td><td>...</td><td>...</td><td>...</td><td>...</td><td>...</td><td>...</td><td>...</td></tr>\n",
       "<tr><td>2642</td><td>1003.5467758326675</td><td>1594.032630533824</td><td>0.7609032047187226</td><td>-0.27022179061044144</td><td>0.37474672760174177</td><td>121</td><td>0.0</td><td>9.19091796875</td><td>1.478613697928657</td><td>-0.42463681299825073</td></tr>\n",
       "<tr><td>2643</td><td>529.9512969558481</td><td>1593.1845821708148</td><td>0.6772983113030765</td><td>0.08930368477734839</td><td>-0.06196669522858795</td><td>121</td><td>0.0</td><td>62.1435546875</td><td>1.7044633451700277</td><td>-0.5789691651860188</td></tr>\n",
       "<tr><td>2644</td><td>1537.281567309547</td><td>1594.2276300453454</td><td>0.8659760992248139</td><td>0.2291075655567631</td><td>0.19225700289188372</td><td>121</td><td>0.0</td><td>77.6915283203125</td><td>2.6416249796185585</td><td>-1.0546779067365364</td></tr>\n",
       "<tr><td>2645</td><td>630.2270378553048</td><td>1591.6323268145554</td><td>0.8857600955518077</td><td>-0.033661545436453146</td><td>0.3131177246241148</td><td>121</td><td>0.0</td><td>47.0181884765625</td><td>1.2071962481393328</td><td>-0.20444469255063302</td></tr>\n",
       "<tr><td>2646</td><td>831.0982607201964</td><td>1595.1238254793611</td><td>0.7105739108704202</td><td>0.21282199074884406</td><td>-0.2765146254858089</td><td>121</td><td>0.0</td><td>89.8525390625</td><td>2.8364993246227668</td><td>-1.1319567112354614</td></tr>\n",
       "<tr><td>2647</td><td>1076.8610133678776</td><td>1594.121880356474</td><td>0.49334605864722697</td><td>-0.3549071724843637</td><td>-0.46262312597372207</td><td>121</td><td>0.0</td><td>64.497802734375</td><td>3.258541354631168</td><td>-1.2825580926555378</td></tr>\n",
       "<tr><td>2648</td><td>700.9037930297574</td><td>1600.6963249361597</td><td>0.20146649803952377</td><td>0.4811888064367508</td><td>0.08955609301104359</td><td>121</td><td>0.0</td><td>3.9903564453125</td><td>1.6832618390611749</td><td>-0.56537919429858</td></tr>\n",
       "<tr><td>2649</td><td>1432.5674435564054</td><td>1601.2103872126465</td><td>0.6463457054338747</td><td>-0.41843316182615586</td><td>-0.3026130908659376</td><td>121</td><td>0.0</td><td>28.9296875</td><td>1.3271403726967868</td><td>-0.30729215242004404</td></tr>\n",
       "<tr><td>2650</td><td>612.6134935159978</td><td>1600.5875607963808</td><td>0.36329767098496746</td><td>-0.33632574214200633</td><td>0.29729208692867237</td><td>121</td><td>0.0</td><td>22.758056640625</td><td>1.6874653834977607</td><td>-0.5680871812982418</td></tr>\n",
       "<tr><td>2651</td><td>753.1008300521577</td><td>1600.4121620431579</td><td>0.32048439654574723</td><td>0.021486156338385253</td><td>0.3812830456165563</td><td>121</td><td>0.0</td><td>28.354736328125</td><td>2.2289403669132213</td><td>-0.8702461237948454</td></tr>\n",
       "</table>"
      ],
      "text/plain": [
       "<Table length=2651>\n",
       "  id      xcentroid      ...        flux                 mag         \n",
       "int64      float64       ...      float64              float64       \n",
       "----- ------------------ ... ------------------ ---------------------\n",
       "    1  696.7584098604169 ...  1.466054422251779  -0.41537523075074256\n",
       "    2  782.2880094007894 ... 1.8916283859990293   -0.6920895561664707\n",
       "    3  866.1608238400944 ... 1.7703131682728852   -0.6201252495517978\n",
       "    4   906.923363129987 ... 2.2552782022343463   -0.8830003059372533\n",
       "    5 1325.8370634788394 ... 1.0098793029895414 -0.010673679065754161\n",
       "    6 190.44282470951651 ... 1.1647616148997304  -0.16559262471996408\n",
       "    7 1492.4805352053213 ... 1.2019266437475227   -0.1996949062969327\n",
       "    8  435.7618011638778 ...  2.012148480042577     -0.75915006233635\n",
       "    9 1120.5560407955988 ... 1.6163929277224207   -0.5213673539658628\n",
       "   10 506.44319856536976 ... 2.4460542647272088   -0.9711652186376005\n",
       "  ...                ... ...                ...                   ...\n",
       " 2642 1003.5467758326675 ...  1.478613697928657  -0.42463681299825073\n",
       " 2643  529.9512969558481 ... 1.7044633451700277   -0.5789691651860188\n",
       " 2644  1537.281567309547 ... 2.6416249796185585   -1.0546779067365364\n",
       " 2645  630.2270378553048 ... 1.2071962481393328  -0.20444469255063302\n",
       " 2646  831.0982607201964 ... 2.8364993246227668   -1.1319567112354614\n",
       " 2647 1076.8610133678776 ...  3.258541354631168   -1.2825580926555378\n",
       " 2648  700.9037930297574 ... 1.6832618390611749     -0.56537919429858\n",
       " 2649 1432.5674435564054 ... 1.3271403726967868  -0.30729215242004404\n",
       " 2650  612.6134935159978 ... 1.6874653834977607   -0.5680871812982418\n",
       " 2651  753.1008300521577 ... 2.2289403669132213   -0.8702461237948454"
      ]
     },
     "execution_count": 132,
     "metadata": {},
     "output_type": "execute_result"
    }
   ],
   "source": [
    "daofind_tbl"
   ]
  },
  {
   "cell_type": "code",
   "execution_count": 137,
   "metadata": {},
   "outputs": [
    {
     "data": {
      "text/html": [
       "<i>Table length=2651</i>\n",
       "<table id=\"table44287234128\" class=\"table-striped table-bordered table-condensed\">\n",
       "<thead><tr><th>id</th><th>xcentroid</th><th>ycentroid</th><th>sharpness</th><th>roundness1</th><th>roundness2</th><th>npix</th><th>sky</th><th>peak</th><th>flux</th><th>mag</th></tr></thead>\n",
       "<thead><tr><th>int64</th><th>float64</th><th>float64</th><th>float64</th><th>float64</th><th>float64</th><th>int64</th><th>float64</th><th>float64</th><th>float64</th><th>float64</th></tr></thead>\n",
       "<tr><td>1</td><td>696.7584098604169</td><td>-2.1404068775518215</td><td>0.763835886141838</td><td>0.06067006693647624</td><td>0.14123610552802032</td><td>121</td><td>0.0</td><td>43.175048828125</td><td>1.466054422251779</td><td>-0.41537523075074256</td></tr>\n",
       "<tr><td>2</td><td>782.2880094007894</td><td>-2.4488236249025825</td><td>0.3064926491877321</td><td>-0.39284496095233506</td><td>0.4931232775797933</td><td>121</td><td>0.0</td><td>12.45556640625</td><td>1.8916283859990293</td><td>-0.6920895561664707</td></tr>\n",
       "<tr><td>3</td><td>866.1608238400944</td><td>-1.4436874213165278</td><td>0.31945249604911136</td><td>0.17018765775802636</td><td>0.3747934062449425</td><td>121</td><td>0.0</td><td>17.021240234375</td><td>1.7703131682728852</td><td>-0.6201252495517978</td></tr>\n",
       "<tr><td>4</td><td>906.923363129987</td><td>0.3368518365103853</td><td>0.39529152123919425</td><td>-0.10704051586363335</td><td>0.1949346221581538</td><td>121</td><td>0.0</td><td>35.151123046875</td><td>2.2552782022343463</td><td>-0.8830003059372533</td></tr>\n",
       "<tr><td>5</td><td>1325.8370634788394</td><td>-2.6944742719282586</td><td>0.30920665852359097</td><td>-0.20947717371325011</td><td>-0.3138834947536519</td><td>121</td><td>0.0</td><td>-1.940673828125</td><td>1.0098793029895414</td><td>-0.010673679065754161</td></tr>\n",
       "<tr><td>6</td><td>190.44282470951651</td><td>0.06880687846626588</td><td>0.3168060264481986</td><td>0.41521779499678374</td><td>0.2333790808309118</td><td>121</td><td>0.0</td><td>-11.9627685546875</td><td>1.1647616148997304</td><td>-0.16559262471996408</td></tr>\n",
       "<tr><td>7</td><td>1492.4805352053213</td><td>-0.639580099810233</td><td>0.579941246132749</td><td>-0.4560175845446361</td><td>0.01615370776505647</td><td>121</td><td>0.0</td><td>14.5081787109375</td><td>1.2019266437475227</td><td>-0.1996949062969327</td></tr>\n",
       "<tr><td>8</td><td>435.7618011638778</td><td>3.0930881123826497</td><td>0.4150360383229217</td><td>0.0009834939790367128</td><td>0.017055218042553597</td><td>121</td><td>0.0</td><td>18.132080078125</td><td>2.012148480042577</td><td>-0.75915006233635</td></tr>\n",
       "<tr><td>9</td><td>1120.5560407955988</td><td>0.8288624851969528</td><td>0.2944564554861594</td><td>-0.21028345556224476</td><td>0.13269440824817752</td><td>121</td><td>0.0</td><td>8.579345703125</td><td>1.6163929277224207</td><td>-0.5213673539658628</td></tr>\n",
       "<tr><td>10</td><td>506.44319856536976</td><td>3.3933457120562807</td><td>0.5731577787624222</td><td>-0.2723056926754385</td><td>0.1922175766690575</td><td>121</td><td>0.0</td><td>49.485595703125</td><td>2.4460542647272088</td><td>-0.9711652186376005</td></tr>\n",
       "<tr><td>...</td><td>...</td><td>...</td><td>...</td><td>...</td><td>...</td><td>...</td><td>...</td><td>...</td><td>...</td><td>...</td></tr>\n",
       "<tr><td>2642</td><td>1003.5467758326675</td><td>1594.032630533824</td><td>0.7609032047187226</td><td>-0.27022179061044144</td><td>0.37474672760174177</td><td>121</td><td>0.0</td><td>9.19091796875</td><td>1.478613697928657</td><td>-0.42463681299825073</td></tr>\n",
       "<tr><td>2643</td><td>529.9512969558481</td><td>1593.1845821708148</td><td>0.6772983113030765</td><td>0.08930368477734839</td><td>-0.06196669522858795</td><td>121</td><td>0.0</td><td>62.1435546875</td><td>1.7044633451700277</td><td>-0.5789691651860188</td></tr>\n",
       "<tr><td>2644</td><td>1537.281567309547</td><td>1594.2276300453454</td><td>0.8659760992248139</td><td>0.2291075655567631</td><td>0.19225700289188372</td><td>121</td><td>0.0</td><td>77.6915283203125</td><td>2.6416249796185585</td><td>-1.0546779067365364</td></tr>\n",
       "<tr><td>2645</td><td>630.2270378553048</td><td>1591.6323268145554</td><td>0.8857600955518077</td><td>-0.033661545436453146</td><td>0.3131177246241148</td><td>121</td><td>0.0</td><td>47.0181884765625</td><td>1.2071962481393328</td><td>-0.20444469255063302</td></tr>\n",
       "<tr><td>2646</td><td>831.0982607201964</td><td>1595.1238254793611</td><td>0.7105739108704202</td><td>0.21282199074884406</td><td>-0.2765146254858089</td><td>121</td><td>0.0</td><td>89.8525390625</td><td>2.8364993246227668</td><td>-1.1319567112354614</td></tr>\n",
       "<tr><td>2647</td><td>1076.8610133678776</td><td>1594.121880356474</td><td>0.49334605864722697</td><td>-0.3549071724843637</td><td>-0.46262312597372207</td><td>121</td><td>0.0</td><td>64.497802734375</td><td>3.258541354631168</td><td>-1.2825580926555378</td></tr>\n",
       "<tr><td>2648</td><td>700.9037930297574</td><td>1600.6963249361597</td><td>0.20146649803952377</td><td>0.4811888064367508</td><td>0.08955609301104359</td><td>121</td><td>0.0</td><td>3.9903564453125</td><td>1.6832618390611749</td><td>-0.56537919429858</td></tr>\n",
       "<tr><td>2649</td><td>1432.5674435564054</td><td>1601.2103872126465</td><td>0.6463457054338747</td><td>-0.41843316182615586</td><td>-0.3026130908659376</td><td>121</td><td>0.0</td><td>28.9296875</td><td>1.3271403726967868</td><td>-0.30729215242004404</td></tr>\n",
       "<tr><td>2650</td><td>612.6134935159978</td><td>1600.5875607963808</td><td>0.36329767098496746</td><td>-0.33632574214200633</td><td>0.29729208692867237</td><td>121</td><td>0.0</td><td>22.758056640625</td><td>1.6874653834977607</td><td>-0.5680871812982418</td></tr>\n",
       "<tr><td>2651</td><td>753.1008300521577</td><td>1600.4121620431579</td><td>0.32048439654574723</td><td>0.021486156338385253</td><td>0.3812830456165563</td><td>121</td><td>0.0</td><td>28.354736328125</td><td>2.2289403669132213</td><td>-0.8702461237948454</td></tr>\n",
       "</table>"
      ],
      "text/plain": [
       "<Table length=2651>\n",
       "  id      xcentroid      ...        flux                 mag         \n",
       "int64      float64       ...      float64              float64       \n",
       "----- ------------------ ... ------------------ ---------------------\n",
       "    1  696.7584098604169 ...  1.466054422251779  -0.41537523075074256\n",
       "    2  782.2880094007894 ... 1.8916283859990293   -0.6920895561664707\n",
       "    3  866.1608238400944 ... 1.7703131682728852   -0.6201252495517978\n",
       "    4   906.923363129987 ... 2.2552782022343463   -0.8830003059372533\n",
       "    5 1325.8370634788394 ... 1.0098793029895414 -0.010673679065754161\n",
       "    6 190.44282470951651 ... 1.1647616148997304  -0.16559262471996408\n",
       "    7 1492.4805352053213 ... 1.2019266437475227   -0.1996949062969327\n",
       "    8  435.7618011638778 ...  2.012148480042577     -0.75915006233635\n",
       "    9 1120.5560407955988 ... 1.6163929277224207   -0.5213673539658628\n",
       "   10 506.44319856536976 ... 2.4460542647272088   -0.9711652186376005\n",
       "  ...                ... ...                ...                   ...\n",
       " 2642 1003.5467758326675 ...  1.478613697928657  -0.42463681299825073\n",
       " 2643  529.9512969558481 ... 1.7044633451700277   -0.5789691651860188\n",
       " 2644  1537.281567309547 ... 2.6416249796185585   -1.0546779067365364\n",
       " 2645  630.2270378553048 ... 1.2071962481393328  -0.20444469255063302\n",
       " 2646  831.0982607201964 ... 2.8364993246227668   -1.1319567112354614\n",
       " 2647 1076.8610133678776 ...  3.258541354631168   -1.2825580926555378\n",
       " 2648  700.9037930297574 ... 1.6832618390611749     -0.56537919429858\n",
       " 2649 1432.5674435564054 ... 1.3271403726967868  -0.30729215242004404\n",
       " 2650  612.6134935159978 ... 1.6874653834977607   -0.5680871812982418\n",
       " 2651  753.1008300521577 ... 2.2289403669132213   -0.8702461237948454"
      ]
     },
     "execution_count": 137,
     "metadata": {},
     "output_type": "execute_result"
    }
   ],
   "source": [
    "sources"
   ]
  },
  {
   "cell_type": "code",
   "execution_count": 23,
   "metadata": {},
   "outputs": [],
   "source": [
    "fwhm=8.2\n",
    "indx_good = np.zeros(len(references), dtype='bool')\n",
    "references['pixel_column'] = row_col_coords[:,0]\n",
    "references['pixel_row'] = row_col_coords[:,1]\n",
    "\n",
    "daofind_tbl=sources\n",
    "\n",
    "for k, ref in enumerate(references):\n",
    "    dist = np.sqrt( (daofind_tbl['xcentroid'] - ref['pixel_column'])**2 + (daofind_tbl['ycentroid'] - ref['pixel_row'])**2 )\n",
    "    if np.any(dist <= fwhm/4): # Cutoff set somewhat arbitrary\n",
    "        indx_good[k] = True        \n",
    "        \n",
    "references_clean = references[indx_good]\n",
    "\n",
    "idx_sources_good=np.zeros(len(daofind_tbl), dtype='bool')\n",
    "for k, daoref in enumerate(daofind_tbl):\n",
    "    dist = np.sqrt( (daoref['xcentroid'] - references_clean['pixel_column'])**2 + (daoref['ycentroid'] - references_clean['pixel_row'])**2 )\n",
    "    if np.any(dist <= fwhm/4):\n",
    "        idx_sources_good[k] = True\n",
    "        \n",
    "daoclean = daofind_tbl[idx_sources_good]\n",
    "    \n",
    "        \n",
    "\n",
    "\n"
   ]
  },
  {
   "cell_type": "code",
   "execution_count": 9,
   "metadata": {},
   "outputs": [
    {
     "ename": "NameError",
     "evalue": "name 'daosources' is not defined",
     "output_type": "error",
     "traceback": [
      "\u001b[0;31m---------------------------------------------------------------------------\u001b[0m",
      "\u001b[0;31mNameError\u001b[0m                                 Traceback (most recent call last)",
      "\u001b[0;32m<ipython-input-9-a66b4ea369ee>\u001b[0m in \u001b[0;36m<module>\u001b[0;34m\u001b[0m\n\u001b[0;32m----> 1\u001b[0;31m \u001b[0mdaosources\u001b[0m\u001b[0;34m\u001b[0m\u001b[0;34m\u001b[0m\u001b[0m\n\u001b[0m",
      "\u001b[0;31mNameError\u001b[0m: name 'daosources' is not defined"
     ]
    }
   ],
   "source": [
    "daosources"
   ]
  },
  {
   "cell_type": "code",
   "execution_count": 24,
   "metadata": {},
   "outputs": [
    {
     "data": {
      "text/html": [
       "<i>Table length=10</i>\n",
       "<table id=\"table4559717840\" class=\"table-striped table-bordered table-condensed\">\n",
       "<thead><tr><th>id</th><th>xcentroid</th><th>ycentroid</th><th>sharpness</th><th>roundness1</th><th>roundness2</th><th>npix</th><th>sky</th><th>peak</th><th>flux</th><th>mag</th></tr></thead>\n",
       "<thead><tr><th>int64</th><th>float64</th><th>float64</th><th>float64</th><th>float64</th><th>float64</th><th>int64</th><th>float64</th><th>float64</th><th>float64</th><th>float64</th></tr></thead>\n",
       "<tr><td>1</td><td>275.2816724893856</td><td>103.05092163435913</td><td>0.24424562360615557</td><td>0.044647676138981976</td><td>0.05671339029917715</td><td>49</td><td>0.0</td><td>25745.458984375</td><td>28.78023654151314</td><td>-3.6477358975813603</td></tr>\n",
       "<tr><td>2</td><td>715.2084142510132</td><td>249.3471196516652</td><td>0.23666532787406502</td><td>0.042825700578575515</td><td>0.05829921234933158</td><td>49</td><td>0.0</td><td>12095.0927734375</td><td>13.552155325507075</td><td>-2.8300209265014162</td></tr>\n",
       "<tr><td>3</td><td>897.8048318202234</td><td>365.7103787293392</td><td>0.22221238649582797</td><td>0.06811938752704706</td><td>0.04210104888298052</td><td>49</td><td>0.0</td><td>13221.3876953125</td><td>15.029471525603316</td><td>-2.942359274895514</td></tr>\n",
       "<tr><td>4</td><td>849.5980773756444</td><td>418.48967937617124</td><td>0.23960366937799363</td><td>0.00486504994237115</td><td>-0.04569086152973272</td><td>49</td><td>0.0</td><td>13248.4921875</td><td>14.8323566857281</td><td>-2.9280254018953524</td></tr>\n",
       "<tr><td>5</td><td>986.9247290210275</td><td>492.96254180170604</td><td>0.24563149872111015</td><td>0.043012003712446595</td><td>0.06391423651345374</td><td>49</td><td>0.0</td><td>9402.61328125</td><td>10.500211047944617</td><td>-2.5529950705407103</td></tr>\n",
       "<tr><td>6</td><td>1079.4377609336625</td><td>549.6537380410668</td><td>0.33617031951799237</td><td>-0.36435531537549687</td><td>-0.560741569624516</td><td>49</td><td>0.0</td><td>2902.73681640625</td><td>1.355963431499597</td><td>-0.3306199433849752</td></tr>\n",
       "<tr><td>7</td><td>1079.0812043124827</td><td>550.6216925496539</td><td>0.34387495960078523</td><td>-0.19114705135457702</td><td>0.09672839666217156</td><td>49</td><td>0.0</td><td>3091.93115234375</td><td>1.3998560923028254</td><td>-0.3652084793185496</td></tr>\n",
       "<tr><td>8</td><td>579.6898185976006</td><td>605.4297017862596</td><td>0.2073057569970722</td><td>0.24367223201044472</td><td>0.13266013118544606</td><td>49</td><td>0.0</td><td>1184.7596435546875</td><td>1.4553374596598418</td><td>-0.4074092700319947</td></tr>\n",
       "<tr><td>11</td><td>1258.3327147946527</td><td>754.9533619263821</td><td>0.26995968334154435</td><td>0.09462055693882522</td><td>-0.07014428662496054</td><td>49</td><td>0.0</td><td>1843.8284912109375</td><td>2.1840783383712923</td><td>-0.8481705288915227</td></tr>\n",
       "<tr><td>35</td><td>795.8309246572558</td><td>1415.620289279014</td><td>0.2429040313569958</td><td>0.14864834739296737</td><td>0.10101072438263403</td><td>49</td><td>0.0</td><td>28126.40625</td><td>30.93603238768208</td><td>-3.726161534346665</td></tr>\n",
       "</table>"
      ],
      "text/plain": [
       "<Table length=10>\n",
       "  id      xcentroid      ...        flux                mag        \n",
       "int64      float64       ...      float64             float64      \n",
       "----- ------------------ ... ------------------ -------------------\n",
       "    1  275.2816724893856 ...  28.78023654151314 -3.6477358975813603\n",
       "    2  715.2084142510132 ... 13.552155325507075 -2.8300209265014162\n",
       "    3  897.8048318202234 ... 15.029471525603316  -2.942359274895514\n",
       "    4  849.5980773756444 ...   14.8323566857281 -2.9280254018953524\n",
       "    5  986.9247290210275 ... 10.500211047944617 -2.5529950705407103\n",
       "    6 1079.4377609336625 ...  1.355963431499597 -0.3306199433849752\n",
       "    7 1079.0812043124827 ... 1.3998560923028254 -0.3652084793185496\n",
       "    8  579.6898185976006 ... 1.4553374596598418 -0.4074092700319947\n",
       "   11 1258.3327147946527 ... 2.1840783383712923 -0.8481705288915227\n",
       "   35  795.8309246572558 ...  30.93603238768208  -3.726161534346665"
      ]
     },
     "execution_count": 24,
     "metadata": {},
     "output_type": "execute_result"
    }
   ],
   "source": [
    "daoclean"
   ]
  },
  {
   "cell_type": "code",
   "execution_count": 170,
   "metadata": {},
   "outputs": [],
   "source": [
    "daosources=daoclean.copy()"
   ]
  },
  {
   "cell_type": "code",
   "execution_count": 161,
   "metadata": {},
   "outputs": [
    {
     "data": {
      "text/plain": [
       "<matplotlib.axes._subplots.AxesSubplot at 0xa5e982fd0>"
      ]
     },
     "execution_count": 161,
     "metadata": {},
     "output_type": "execute_result"
    }
   ],
   "source": [
    "sns.distplot((daoclean['roundness1']**2+daoclean['roundness2']**2)**(0.5),rug=True)"
   ]
  },
  {
   "cell_type": "code",
   "execution_count": 175,
   "metadata": {},
   "outputs": [
    {
     "name": "stderr",
     "output_type": "stream",
     "text": [
      "/opt/anaconda3/envs/flows/lib/python3.7/site-packages/ipykernel_launcher.py:5: MatplotlibDeprecationWarning: Using a string of single character colors as a color sequence is deprecated. Use an explicit list instead.\n",
      "  \"\"\"\n",
      "/opt/anaconda3/envs/flows/lib/python3.7/site-packages/ipykernel_launcher.py:6: MatplotlibDeprecationWarning: Using a string of single character colors as a color sequence is deprecated. Use an explicit list instead.\n",
      "  \n",
      "/opt/anaconda3/envs/flows/lib/python3.7/site-packages/ipykernel_launcher.py:11: MatplotlibDeprecationWarning: Using a string of single character colors as a color sequence is deprecated. Use an explicit list instead.\n",
      "  # This is added back by InteractiveShellApp.init_path()\n"
     ]
    },
    {
     "data": {
      "text/plain": [
       "(0.0, 1700.0)"
      ]
     },
     "execution_count": 175,
     "metadata": {},
     "output_type": "execute_result"
    }
   ],
   "source": [
    "fig = plt.figure(figsize=(20,20))\n",
    "ax = fig.add_subplot(111, projection=img.wcs)\n",
    "clim = np.percentile(img.clean, (10, 99))\n",
    "ax.imshow(img.clean,origin='lower',clim=clim)\n",
    "ax.scatter(daoclean['xcentroid'],daoclean['ycentroid'],30.0,'',edgecolors='red',lw=1.0)\n",
    "ax.scatter(daosources['xcentroid'],daosources['ycentroid'],50.0,'',edgecolors='orange',lw=1.0)\n",
    "\n",
    "\n",
    "\n",
    "\n",
    "ax.scatter(tarxy[0],tarxy[1],30.0,'',edgecolors='orange',lw=1.0)\n",
    "ax.set_xlim(0,1700)\n",
    "ax.set_ylim(0,1700)"
   ]
  },
  {
   "cell_type": "code",
   "execution_count": 135,
   "metadata": {},
   "outputs": [],
   "source": [
    "#index of finite daofind sources\n",
    "sources= daofind_tbl\n",
    "magnitude_limit=-1.5\n",
    "import pandas as pd\n",
    "from astropy.stats import sigma_clip\n",
    "\n",
    "ic = [i for i, row in enumerate(sources) if np.isfinite(row['mag']) and row['mag'] <= magnitude_limit] \n",
    "\n",
    "#I don't even know why this is in pandas, I just copied from my old code\n",
    "#Update to just use astropy table and remove the unnecessary for loops.\n",
    "df=pd.DataFrame(index=ic,columns=['s','r1','r2'])\n",
    "sp,rp1,rp2=[],[],[]\n",
    "for i in ic:\n",
    "    sp.append(sources[i]['sharpness'])\n",
    "    rp1.append(sources[i]['roundness1'])\n",
    "    rp2.append(sources[i]['roundness2'])\n",
    "df['s']=sp\n",
    "df['r1']=rp1\n",
    "df['r2']=rp2\n",
    "\n",
    "df['delta_s']=df.s-df.s.mean()\n",
    "df['delta_r1']=df.r1-df.r1.mean()\n",
    "df['delta_r2']=df.r2-df.r2.mean()\n",
    "\n",
    "df['del_r2']=(df.delta_r1**2+df.delta_r2**2)**(1/2)\n",
    "\n",
    "masked_s=sigma_clip(df['s'],sigma=2.5)\n",
    "\n",
    "idx_clean=df[((df.delta_s<-0.1) & (df.del_r2>df.del_r2.median())) | (masked_s.mask==True)].index.values"
   ]
  },
  {
   "cell_type": "code",
   "execution_count": 138,
   "metadata": {},
   "outputs": [],
   "source": [
    "import seaborn as sns"
   ]
  },
  {
   "cell_type": "code",
   "execution_count": 140,
   "metadata": {},
   "outputs": [
    {
     "data": {
      "text/plain": [
       "<matplotlib.axes._subplots.AxesSubplot at 0xa50d01c10>"
      ]
     },
     "execution_count": 140,
     "metadata": {},
     "output_type": "execute_result"
    }
   ],
   "source": [
    "sns.distplot(df.s,rug=True)"
   ]
  },
  {
   "cell_type": "code",
   "execution_count": 143,
   "metadata": {},
   "outputs": [
    {
     "data": {
      "text/plain": [
       "<matplotlib.axes._subplots.AxesSubplot at 0xa51f69790>"
      ]
     },
     "execution_count": 143,
     "metadata": {},
     "output_type": "execute_result"
    }
   ],
   "source": [
    "sns.distplot(df.del_r2,rug=True)"
   ]
  },
  {
   "cell_type": "code",
   "execution_count": 136,
   "metadata": {},
   "outputs": [
    {
     "data": {
      "text/plain": [
       "array([ 490, 1011, 1084, 1109, 1127, 1149, 1270, 1282, 1317, 1361, 1393,\n",
       "       1444, 1565, 1581, 1636, 1658, 1747, 1748, 1756, 1776, 1832, 1867,\n",
       "       1900, 2027, 2215, 2227])"
      ]
     },
     "execution_count": 136,
     "metadata": {},
     "output_type": "execute_result"
    }
   ],
   "source": [
    "idx_clean"
   ]
  }
 ],
 "metadata": {
  "kernelspec": {
   "display_name": "Python 3",
   "language": "python",
   "name": "python3"
  },
  "language_info": {
   "codemirror_mode": {
    "name": "ipython",
    "version": 3
   },
   "file_extension": ".py",
   "mimetype": "text/x-python",
   "name": "python",
   "nbconvert_exporter": "python",
   "pygments_lexer": "ipython3",
   "version": "3.7.7"
  }
 },
 "nbformat": 4,
 "nbformat_minor": 4
}
